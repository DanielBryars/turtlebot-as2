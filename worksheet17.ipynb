{
 "cells": [
  {
   "cell_type": "markdown",
   "id": "d656b465",
   "metadata": {},
   "source": [
    "# Worksheet 17: RL on Robotics"
   ]
  },
  {
   "cell_type": "markdown",
   "id": "d83198b8",
   "metadata": {},
   "source": [
    "**Learning outcomes**\n",
    "1. understand how to create a simple Robot environment that links to Gazebo\n",
    "1. understand how to deal with the simulated environment in a grid world fashion\n",
    "1. appreciate the intricacy of applying RL to the robotics domain\n",
    "1. build on previous concepts to come up with a suitable solution to a problem at hand\n",
    "1. understand how a replay buffer helps us to come closer to supervised learning and appreciate the important role it plays in reaching convergence\n",
    "1. understand how to combine deep reinforcement learning with deep learning to create a powerful framework that allows automatic agent learning by observation or self-play.\n",
    "1. understand how a replay buffer helps us to come closer to supervised learning and appreciate the important role it plays in reaching convergence for difficult problems that involve image processing and reinforcement learning\n"
   ]
  },
  {
   "cell_type": "markdown",
   "id": "86f5f0e1",
   "metadata": {},
   "source": [
    "In this worksheet, we deal with how to set up a robot environment class that can handle the publish-subscribe on topics and deal with services in ROS. We must have ROS and Gazebo installed and set up on our machine. The code is a starting point and is not fully developed. You will need to write the necessary functionality to address a specific requirement. The main idea of tackling robotics applications in a Jupyter notebook is to utilise the provided infrastructure and libraries of code we covered in earlier units."
   ]
  },
  {
   "cell_type": "markdown",
   "id": "923499de-54e3-4c00-8e35-77a20c2fdde0",
   "metadata": {},
   "source": [
    "## Instructions for running Experiments on Azure VM\n",
    "The VM usage limit is set to 120 hours. Please turn off the machine when not using it to preserve your time. The VM is not set to disconnect you automatically so that you can leave it training the robot continuously for assessment 2.\n",
    "\n",
    "Please turn off the screen save and screen lock in Xfce(Applications->Settings->Light Locker) as it may cause the machine to become not responsive, which in turn, causes Azure to stop it automatically.\n",
    "\n",
    "If the VM becomes corrupted for some reason, then you can reimage it by going to Azure Lab page and selecting the three dots, then reimage. *Reimage will reset the VM to its initial settings but it causes all data you have on the machine to be lost.* You are advised to backup your data, you may want to use OneDrive or other backup methods.\n",
    "\n",
    "If Gazebo stops for any reason, the provided code has a `try-except` statement (in the base MRP class) that you can activate (comment in). It allows you to continue training even if the robot becomes not responsive without having to restart the experiment. But you will need to restart the kernel if you change the undrlying library. \n",
    "\n",
    "You can restart your notebook kernel when you want to re-establish a connection with the environment. However, this is rarely needed and even if gazebo stopped, you can still relaunch usng the above command and just rerun the latest cell wihout having to restart the kernel (let alone Clear All).\n",
    "\n",
    "If you are running out of time, please let your tutor know in advance and they will try to increase your VM time allowance.\n",
    "\n",
    "\n",
    "### Using your own VM\n",
    "You *might* need to do `export PATH=\"home/rl/.local/bin:/opt/ros/foxy/share:$PATH` if you are using your own independent VM.\n",
    "\n",
    "Go to /opt/ros/foxy/share/turtlebot3_gazebo/models/turtlebot3_burger/model.sdf and adjust the <update_rate>30</update_rate> to <update_rate>5</update_rate> for the odomotry turtlebot3_diff_drive. This will change its frequency from 30 to 5 so that it aligns with the scanner frequency.\n",
    "\n",
    "Install [turtlebot3](https://emanual.robotis.com/docs/en/platform/turtlebot3/quick-start/#install-dependent-ros-packages-1) packages. If you are in our VM, the packages are already installed and no need to do anything."
   ]
  },
  {
   "cell_type": "markdown",
   "id": "d8d58b74",
   "metadata": {},
   "source": [
    "## Launching the Gazebo Environment with TurtleBot Spawned\n",
    "To launch a Gazebo environment with TurtleBot3, open a terminal and run the following command:"
   ]
  },
  {
   "cell_type": "markdown",
   "id": "1bd7ffb8",
   "metadata": {},
   "source": [
    "- `ros2 launch turtlebot3_gazebo turtlebot3_house.launch`\n",
    "- `ros2 launch turtlebot3_gazebo turtlebot3_simple.launch.py`\n",
    "- `ros2 launch turtlebot3_gazebo turtlebot3_assessment2.launch.py`\n",
    "\n",
    "To make the testing smoother, you can right-click Gazebo and keep the window on top.\n",
    "You can also press ctrl+R to reset the environment."
   ]
  },
  {
   "cell_type": "markdown",
   "id": "dc84259c",
   "metadata": {},
   "source": [
    "Note that you cannot do that inside the notebook because that the command blocks the notebook from executing other code. "
   ]
  },
  {
   "cell_type": "code",
   "execution_count": 1,
   "id": "e001f029",
   "metadata": {},
   "outputs": [],
   "source": [
    "%matplotlib inline"
   ]
  },
  {
   "cell_type": "markdown",
   "id": "ebe5a1b7",
   "metadata": {},
   "source": [
    "## The RobEnv Class (Interfacing Gazebo with RL Lib)\n",
    "\n",
    "We have set up an environment called `RobEnv` (inside env.robot.py) that allows us to use the algorithms we developed in earlier units directly.\n",
    "\n",
    "So long as the /scan(LaserScan), /odom (Odometry) and /cmd_vel(Twist) topics are available (due to launching a gazebo sim with an env and robot spawned), the environment should work fine. "
   ]
  },
  {
   "cell_type": "markdown",
   "id": "e05ecbf3",
   "metadata": {},
   "source": [
    "## Imports"
   ]
  },
  {
   "cell_type": "code",
   "execution_count": 2,
   "id": "0ccf3216",
   "metadata": {},
   "outputs": [
    {
     "data": {
      "text/html": [
       "<style>.container {width:90% !important}</style>"
      ],
      "text/plain": [
       "<IPython.core.display.HTML object>"
      ]
     },
     "metadata": {},
     "output_type": "display_data"
    },
    {
     "ename": "FileNotFoundError",
     "evalue": "[Errno 2] No such file or directory: '/opt/ros/foxy/share/turtlebot3_gazebo/models/turtlebot3_burger/model.sdf'",
     "output_type": "error",
     "traceback": [
      "\u001b[0;31m---------------------------------------------------------------------------\u001b[0m",
      "\u001b[0;31mFileNotFoundError\u001b[0m                         Traceback (most recent call last)",
      "Cell \u001b[0;32mIn[2], line 1\u001b[0m\n\u001b[0;32m----> 1\u001b[0m \u001b[38;5;28;01mfrom\u001b[39;00m \u001b[38;5;21;01menv\u001b[39;00m\u001b[38;5;21;01m.\u001b[39;00m\u001b[38;5;21;01mrobot\u001b[39;00m \u001b[38;5;28;01mimport\u001b[39;00m \u001b[38;5;241m*\u001b[39m\n\u001b[1;32m      2\u001b[0m \u001b[38;5;28;01mimport\u001b[39;00m \u001b[38;5;21;01mnumpy\u001b[39;00m \u001b[38;5;28;01mas\u001b[39;00m \u001b[38;5;21;01mnp\u001b[39;00m\n\u001b[1;32m      3\u001b[0m \u001b[38;5;28;01mfrom\u001b[39;00m \u001b[38;5;21;01mmath\u001b[39;00m \u001b[38;5;28;01mimport\u001b[39;00m pi\n",
      "File \u001b[0;32m~/git/turtlebot-as2/env/robot.py:86\u001b[0m\n\u001b[1;32m     82\u001b[0m     set_real_time_rate(step_rate\u001b[38;5;241m=\u001b[39m\u001b[38;5;241m0.001\u001b[39m\u001b[38;5;241m*\u001b[39mspeed)\n\u001b[1;32m     83\u001b[0m \u001b[38;5;66;03m# ====================================================================================================\u001b[39;00m\n\u001b[0;32m---> 86\u001b[0m \u001b[38;5;28;01mclass\u001b[39;00m \u001b[38;5;21;01mRobEnv\u001b[39;00m(Node):\n\u001b[1;32m     87\u001b[0m     \u001b[38;5;66;03m# initialisation--------------------------------------------------------------\u001b[39;00m\n\u001b[1;32m     88\u001b[0m     \u001b[38;5;66;03m# n sets hw=ow frequent the publisher is publishing to the /cmd_vel\u001b[39;00m\n\u001b[1;32m     89\u001b[0m     \u001b[38;5;28;01mdef\u001b[39;00m \u001b[38;5;21m__init__\u001b[39m(\u001b[38;5;28mself\u001b[39m, name\u001b[38;5;241m=\u001b[39mname(),\n\u001b[1;32m     90\u001b[0m                  n\u001b[38;5;241m=\u001b[39m\u001b[38;5;241m8\u001b[39m, speed\u001b[38;5;241m=\u001b[39m\u001b[38;5;241m2.0\u001b[39m, θspeed\u001b[38;5;241m=\u001b[39mpi\u001b[38;5;241m/\u001b[39m\u001b[38;5;241m2\u001b[39m,\n\u001b[1;32m     91\u001b[0m                  nscans\u001b[38;5;241m=\u001b[39mget_nscans_LiDAR(), nscansρ\u001b[38;5;241m=\u001b[39m\u001b[38;5;241m.15\u001b[39m,\n\u001b[1;32m     92\u001b[0m                  tol\u001b[38;5;241m=\u001b[39m\u001b[38;5;241m.9\u001b[39m,\n\u001b[1;32m     93\u001b[0m                  sleep\u001b[38;5;241m=\u001b[39m\u001b[38;5;28;01mFalse\u001b[39;00m,\n\u001b[1;32m     94\u001b[0m                  verbose\u001b[38;5;241m=\u001b[39m\u001b[38;5;28;01mFalse\u001b[39;00m):\n\u001b[1;32m     95\u001b[0m         \u001b[38;5;28msuper\u001b[39m()\u001b[38;5;241m.\u001b[39m\u001b[38;5;21m__init__\u001b[39m(name)\n",
      "File \u001b[0;32m~/git/turtlebot-as2/env/robot.py:91\u001b[0m, in \u001b[0;36mRobEnv\u001b[0;34m()\u001b[0m\n\u001b[1;32m     86\u001b[0m \u001b[38;5;28;01mclass\u001b[39;00m \u001b[38;5;21;01mRobEnv\u001b[39;00m(Node):\n\u001b[1;32m     87\u001b[0m     \u001b[38;5;66;03m# initialisation--------------------------------------------------------------\u001b[39;00m\n\u001b[1;32m     88\u001b[0m     \u001b[38;5;66;03m# n sets hw=ow frequent the publisher is publishing to the /cmd_vel\u001b[39;00m\n\u001b[1;32m     89\u001b[0m     \u001b[38;5;28;01mdef\u001b[39;00m \u001b[38;5;21m__init__\u001b[39m(\u001b[38;5;28mself\u001b[39m, name\u001b[38;5;241m=\u001b[39mname(),\n\u001b[1;32m     90\u001b[0m                  n\u001b[38;5;241m=\u001b[39m\u001b[38;5;241m8\u001b[39m, speed\u001b[38;5;241m=\u001b[39m\u001b[38;5;241m2.0\u001b[39m, θspeed\u001b[38;5;241m=\u001b[39mpi\u001b[38;5;241m/\u001b[39m\u001b[38;5;241m2\u001b[39m,\n\u001b[0;32m---> 91\u001b[0m                  nscans\u001b[38;5;241m=\u001b[39m\u001b[43mget_nscans_LiDAR\u001b[49m\u001b[43m(\u001b[49m\u001b[43m)\u001b[49m, nscansρ\u001b[38;5;241m=\u001b[39m\u001b[38;5;241m.15\u001b[39m,\n\u001b[1;32m     92\u001b[0m                  tol\u001b[38;5;241m=\u001b[39m\u001b[38;5;241m.9\u001b[39m,\n\u001b[1;32m     93\u001b[0m                  sleep\u001b[38;5;241m=\u001b[39m\u001b[38;5;28;01mFalse\u001b[39;00m,\n\u001b[1;32m     94\u001b[0m                  verbose\u001b[38;5;241m=\u001b[39m\u001b[38;5;28;01mFalse\u001b[39;00m):\n\u001b[1;32m     95\u001b[0m         \u001b[38;5;28msuper\u001b[39m()\u001b[38;5;241m.\u001b[39m\u001b[38;5;21m__init__\u001b[39m(name)\n\u001b[1;32m     97\u001b[0m         \u001b[38;5;28mself\u001b[39m\u001b[38;5;241m.\u001b[39mn \u001b[38;5;241m=\u001b[39m n\n",
      "File \u001b[0;32m~/git/turtlebot-as2/env/robot.py:47\u001b[0m, in \u001b[0;36mget_nscans_LiDAR\u001b[0;34m(path)\u001b[0m\n\u001b[1;32m     46\u001b[0m \u001b[38;5;28;01mdef\u001b[39;00m \u001b[38;5;21mget_nscans_LiDAR\u001b[39m(path\u001b[38;5;241m=\u001b[39msdf_path):\n\u001b[0;32m---> 47\u001b[0m     \u001b[38;5;28;01mreturn\u001b[39;00m \u001b[38;5;28mint\u001b[39m(\u001b[43mET\u001b[49m\u001b[38;5;241;43m.\u001b[39;49m\u001b[43mparse\u001b[49m\u001b[43m(\u001b[49m\u001b[43mpath\u001b[49m\u001b[43m)\u001b[49m\u001b[38;5;241m.\u001b[39mfind(\u001b[38;5;124m\"\u001b[39m\u001b[38;5;124m.//sensor[@type=\u001b[39m\u001b[38;5;124m'\u001b[39m\u001b[38;5;124mray\u001b[39m\u001b[38;5;124m'\u001b[39m\u001b[38;5;124m]//horizontal/samples\u001b[39m\u001b[38;5;124m\"\u001b[39m)\u001b[38;5;241m.\u001b[39mtext)\n",
      "File \u001b[0;32m/usr/lib/python3.10/xml/etree/ElementTree.py:1222\u001b[0m, in \u001b[0;36mparse\u001b[0;34m(source, parser)\u001b[0m\n\u001b[1;32m   1213\u001b[0m \u001b[38;5;124;03m\"\"\"Parse XML document into element tree.\u001b[39;00m\n\u001b[1;32m   1214\u001b[0m \n\u001b[1;32m   1215\u001b[0m \u001b[38;5;124;03m*source* is a filename or file object containing XML data,\u001b[39;00m\n\u001b[0;32m   (...)\u001b[0m\n\u001b[1;32m   1219\u001b[0m \n\u001b[1;32m   1220\u001b[0m \u001b[38;5;124;03m\"\"\"\u001b[39;00m\n\u001b[1;32m   1221\u001b[0m tree \u001b[38;5;241m=\u001b[39m ElementTree()\n\u001b[0;32m-> 1222\u001b[0m \u001b[43mtree\u001b[49m\u001b[38;5;241;43m.\u001b[39;49m\u001b[43mparse\u001b[49m\u001b[43m(\u001b[49m\u001b[43msource\u001b[49m\u001b[43m,\u001b[49m\u001b[43m \u001b[49m\u001b[43mparser\u001b[49m\u001b[43m)\u001b[49m\n\u001b[1;32m   1223\u001b[0m \u001b[38;5;28;01mreturn\u001b[39;00m tree\n",
      "File \u001b[0;32m/usr/lib/python3.10/xml/etree/ElementTree.py:569\u001b[0m, in \u001b[0;36mElementTree.parse\u001b[0;34m(self, source, parser)\u001b[0m\n\u001b[1;32m    567\u001b[0m close_source \u001b[38;5;241m=\u001b[39m \u001b[38;5;28;01mFalse\u001b[39;00m\n\u001b[1;32m    568\u001b[0m \u001b[38;5;28;01mif\u001b[39;00m \u001b[38;5;129;01mnot\u001b[39;00m \u001b[38;5;28mhasattr\u001b[39m(source, \u001b[38;5;124m\"\u001b[39m\u001b[38;5;124mread\u001b[39m\u001b[38;5;124m\"\u001b[39m):\n\u001b[0;32m--> 569\u001b[0m     source \u001b[38;5;241m=\u001b[39m \u001b[38;5;28;43mopen\u001b[39;49m\u001b[43m(\u001b[49m\u001b[43msource\u001b[49m\u001b[43m,\u001b[49m\u001b[43m \u001b[49m\u001b[38;5;124;43m\"\u001b[39;49m\u001b[38;5;124;43mrb\u001b[39;49m\u001b[38;5;124;43m\"\u001b[39;49m\u001b[43m)\u001b[49m\n\u001b[1;32m    570\u001b[0m     close_source \u001b[38;5;241m=\u001b[39m \u001b[38;5;28;01mTrue\u001b[39;00m\n\u001b[1;32m    571\u001b[0m \u001b[38;5;28;01mtry\u001b[39;00m:\n",
      "\u001b[0;31mFileNotFoundError\u001b[0m: [Errno 2] No such file or directory: '/opt/ros/foxy/share/turtlebot3_gazebo/models/turtlebot3_burger/model.sdf'"
     ]
    }
   ],
   "source": [
    "from env.robot import *\n",
    "import numpy as np\n",
    "from math import pi\n",
    "from time import sleep\n",
    "from tqdm.notebook import tqdm\n"
   ]
  },
  {
   "cell_type": "markdown",
   "id": "b52a690f",
   "metadata": {},
   "source": [
    "## Constants"
   ]
  },
  {
   "cell_type": "code",
   "execution_count": 2,
   "id": "279b7c72",
   "metadata": {},
   "outputs": [],
   "source": [
    "#ACTIONS - make the code easier to read\n",
    "FORWARDS = 1\n",
    "LEFT = 0\n",
    "RIGHT = 2"
   ]
  },
  {
   "cell_type": "markdown",
   "id": "2ce824cf",
   "metadata": {},
   "source": [
    "### Summary of the RobEnv Class\n",
    "\n",
    "-`RobEnv`: A ROS2 node that connects a TurtleBot robot with a Gazebo simulation. It manages robot control, sensor readings, and interactions within the environment.\n",
    "\n",
    "-`odom`: Processes odometry data, updating the robot's position (`x, y`) and orientation (`θ`).  \n",
    "-`scan`: Reads laser scan data, replacing infinite values with the maximum sensor range.  \n",
    "-`yaw`: Converts quaternion orientation into a yaw angle in radians.  \n",
    "\n",
    "-`θgoal`: Computes the angular distance between the robot and a goal.  \n",
    "-`distgoal`: Calculates the Euclidean distance to the closest goal.  \n",
    "-`atgoal`: Checks if the robot has reached a goal.  \n",
    "-`atwall`: Detects potential collisions based on laser scan data.  \n",
    "\n",
    "-`reward`: Assigns a reward based on the robot's state and action. It encourages movement towards goals and penalises collisions or undesired actions. If the robot collides with a wall, it automatically resets the environment.  \n",
    "\n",
    "-`s_`: Converts the robot’s real-world position and orientation into a discrete state representation, mapping it to a grid system.  \n",
    "\n",
    "-`spin_n`: Ensures the node updates by calling `ros.spin_once` multiple times.  \n",
    "-`control`: Publishes movement commands.  \n",
    "-`step`: Executes a specified action (`forward, turn left, turn right`), computes the next state, and returns a reward.  \n",
    "-`stop`: Halts all movement.  \n",
    "\n",
    "-`reset`: Restarts the simulation, ensuring a fresh environment for new episodes.  \n",
    "\n",
    "This class is particularly useful for reinforcement learning applications, allowing the TurtleBot to learn navigation behaviours by interacting with a simulated Gazebo environment.  \n",
    "\n",
    "\n",
    "\n",
    "**You can override any of the functions by inheriting the class**"
   ]
  },
  {
   "cell_type": "markdown",
   "id": "112bcba9",
   "metadata": {},
   "source": [
    "## Setting the #laser scans for the LiDAR Sensors"
   ]
  },
  {
   "cell_type": "markdown",
   "id": "17b6b60e",
   "metadata": {},
   "source": [
    "We have provided you with a code to adjust the number of LiDAR beams in the model.sdf file directly in your jupyter notebook.\n",
    "\n",
    "**Important**: if you changed the number of LiDARs then you will need to relaunch the environmnet for the canhes to take effect, otherwise you will get an error when you run the RL algorithms."
   ]
  },
  {
   "cell_type": "code",
   "execution_count": 3,
   "id": "41172a2a",
   "metadata": {},
   "outputs": [
    {
     "data": {
      "text/plain": [
       "360"
      ]
     },
     "execution_count": 3,
     "metadata": {},
     "output_type": "execute_result"
    }
   ],
   "source": [
    "get_nscans_LiDAR()\n",
    "#set_nscans_LiDAR(nscans=64)"
   ]
  },
  {
   "cell_type": "markdown",
   "id": "d2890c11",
   "metadata": {},
   "source": [
    "Now we can launch the gazebo environment either \n",
    "\n",
    "1. programmatically using load_gazebo() which means that gazebo will terminate if you interrupted your code for any reason\n",
    "2. or by executing `ros2 launch turtlebot3_gazebo turtlebot3_assessment2.launch.py` in a terminal"
   ]
  },
  {
   "cell_type": "markdown",
   "id": "c4f60722",
   "metadata": {},
   "source": [
    "To ensure that all gazebo process are terminated, execute the following command. This is useful when your environment is stuck with `world client service...` message."
   ]
  },
  {
   "cell_type": "code",
   "execution_count": 4,
   "id": "09f7a51d",
   "metadata": {},
   "outputs": [],
   "source": [
    "!killall -9 gzclient\n",
    "!killall -9  gzserver\n",
    "!killall -9  ros2"
   ]
  },
  {
   "cell_type": "markdown",
   "id": "ece6b480",
   "metadata": {},
   "source": [
    "Then relaunch"
   ]
  },
  {
   "cell_type": "code",
   "execution_count": 5,
   "id": "6ee39922",
   "metadata": {},
   "outputs": [],
   "source": [
    "# load_gazebo() # this not recommended do it from the terminal by executing the line below\n",
    "# ros2 launch turtlebot3_gazebo turtlebot3_world.launch.py"
   ]
  },
  {
   "cell_type": "markdown",
   "id": "19491b5c",
   "metadata": {},
   "source": [
    "### Connecting Gazebo with this Notebook\n",
    "To establish the connection between gazebo and this notebook, we ned to run the fllowing command **once**"
   ]
  },
  {
   "cell_type": "code",
   "execution_count": 4,
   "id": "a27480d7",
   "metadata": {},
   "outputs": [],
   "source": [
    "ros.init()"
   ]
  },
  {
   "cell_type": "markdown",
   "id": "c5833b2d",
   "metadata": {},
   "source": [
    "### Moving the robot(Actions)\n",
    "We can now start controlling the robot. Let us look at simple examples."
   ]
  },
  {
   "cell_type": "code",
   "execution_count": 5,
   "id": "472721ca",
   "metadata": {},
   "outputs": [
    {
     "name": "stdout",
     "output_type": "stream",
     "text": [
      "speed  =  2.0\n",
      "θspeed =  1.57\n"
     ]
    }
   ],
   "source": [
    "env = RobEnv()\n",
    "#env.verbose = True"
   ]
  },
  {
   "cell_type": "code",
   "execution_count": 7,
   "id": "698bc3a8",
   "metadata": {},
   "outputs": [
    {
     "data": {
      "text/plain": [
       "112"
      ]
     },
     "execution_count": 7,
     "metadata": {},
     "output_type": "execute_result"
    }
   ],
   "source": [
    "env.reset()"
   ]
  },
  {
   "cell_type": "code",
   "execution_count": 8,
   "id": "6bc0277b",
   "metadata": {},
   "outputs": [
    {
     "data": {
      "text/plain": [
       "(112, -1, False, {'final_error': 2.83, 'step_count': 1})"
      ]
     },
     "execution_count": 8,
     "metadata": {},
     "output_type": "execute_result"
    }
   ],
   "source": [
    "\n",
    "env.step(FORWARDS)"
   ]
  },
  {
   "cell_type": "markdown",
   "id": "f56a26fc",
   "metadata": {},
   "source": [
    "As we can see, the turtlebot robot moved forward in gazebo sim which proved that our interface class is working well."
   ]
  },
  {
   "cell_type": "markdown",
   "id": "42232343-488a-4875-ac74-91f0044984dd",
   "metadata": {},
   "source": [
    "## Rotational and Translational Calibration\n",
    "\n",
    "Let us calibrate the rotational and translational movements of our robot settings. The idea here is to be able to get a consistent behaviour where a robot can consistently complete a full circle in a specified number of times *most of the times*. This is a trial and error process, we usually need to experiment with different settings, bearing in minde the accuracy and efficiency of the robot training that will take place later.\n",
    "\n",
    "The frequency plays an important role as it specifies how many times the velocity changes commands are going to be executed per seconds. This is via our subscription to the /cmd_vel topic and the create_timer() function of the Node class.\n",
    "The second important factor is the number of times the spin_once() is going to be executed. Spining a few times after publishing a command helps stablise the behaviour and gives us more consistency because it helps flush any delayed execution as well as any delayed subscription due to the robot hardware limitation which is simulated to an extent in Gazebo."
   ]
  },
  {
   "cell_type": "markdown",
   "id": "9a7a1d31-43cc-48c0-ac1c-49f6d537c64d",
   "metadata": {},
   "source": [
    "### Rotation in place to form a full $2\\pi$ circle"
   ]
  },
  {
   "cell_type": "code",
   "execution_count": 9,
   "id": "dc9a64cb-95b4-460a-8bb9-0f11ecf4ba78",
   "metadata": {},
   "outputs": [
    {
     "name": "stdout",
     "output_type": "stream",
     "text": [
      "resetting world..........................................\n",
      "speed  =  2.0\n",
      "θspeed =  0.9\n"
     ]
    },
    {
     "name": "stderr",
     "output_type": "stream",
     "text": [
      "[WARN] [1745257645.498220006] [rcl.logging_rosout]: Publisher already registered for provided node name. If this is due to multiple nodes with the same name then all logs for that logger name will go out over the existing publisher. As soon as any node with that name is destructed it will unregister the publisher, preventing any further logs for that name from being published on the rosout topic.\n"
     ]
    }
   ],
   "source": [
    "θspeed = pi/3.5\n",
    "speed = 2.0\n",
    "n = 6\n",
    "\n",
    "env = RobEnv(speed=speed, θspeed=θspeed, n=n, verbose=True)"
   ]
  },
  {
   "cell_type": "code",
   "execution_count": 14,
   "id": "308353d7",
   "metadata": {},
   "outputs": [
    {
     "name": "stdout",
     "output_type": "stream",
     "text": [
      "resetting world..........................................\n"
     ]
    },
    {
     "data": {
      "application/vnd.jupyter.widget-view+json": {
       "model_id": "3293dabe4f3e413b9cca5eb6f723ca38",
       "version_major": 2,
       "version_minor": 0
      },
      "text/plain": [
       "Calibrating Rotation: 0step [00:00, ?step/s]"
      ]
     },
     "metadata": {},
     "output_type": "display_data"
    },
    {
     "name": "stdout",
     "output_type": "stream",
     "text": [
      "step_count:36: final position: 9.74 degrees\n",
      "resetting world..........................................\n"
     ]
    },
    {
     "data": {
      "application/vnd.jupyter.widget-view+json": {
       "model_id": "7261088b09914a718dbd2cde270aece1",
       "version_major": 2,
       "version_minor": 0
      },
      "text/plain": [
       "Calibrating Rotation: 0step [00:00, ?step/s]"
      ]
     },
     "metadata": {},
     "output_type": "display_data"
    },
    {
     "name": "stdout",
     "output_type": "stream",
     "text": [
      "step_count:36: final position: 8.02 degrees\n",
      "resetting world..........................................\n"
     ]
    },
    {
     "data": {
      "application/vnd.jupyter.widget-view+json": {
       "model_id": "c3237b2f6e0543999cf4770be6e08a8f",
       "version_major": 2,
       "version_minor": 0
      },
      "text/plain": [
       "Calibrating Rotation: 0step [00:00, ?step/s]"
      ]
     },
     "metadata": {},
     "output_type": "display_data"
    },
    {
     "name": "stdout",
     "output_type": "stream",
     "text": [
      "step_count:36: final position: 6.88 degrees\n",
      "resetting world..........................................\n"
     ]
    },
    {
     "data": {
      "application/vnd.jupyter.widget-view+json": {
       "model_id": "d6215b41a80b42d787b730a52d3c3c5d",
       "version_major": 2,
       "version_minor": 0
      },
      "text/plain": [
       "Calibrating Rotation: 0step [00:00, ?step/s]"
      ]
     },
     "metadata": {},
     "output_type": "display_data"
    },
    {
     "name": "stdout",
     "output_type": "stream",
     "text": [
      "step_count:36: final position: 4.58 degrees\n",
      "resetting world..........................................\n"
     ]
    },
    {
     "data": {
      "application/vnd.jupyter.widget-view+json": {
       "model_id": "be4cfe0826a6452cb1500771251be0a3",
       "version_major": 2,
       "version_minor": 0
      },
      "text/plain": [
       "Calibrating Rotation: 0step [00:00, ?step/s]"
      ]
     },
     "metadata": {},
     "output_type": "display_data"
    },
    {
     "name": "stdout",
     "output_type": "stream",
     "text": [
      "step_count:36: final position: 4.58 degrees\n",
      "resetting world..........................................\n"
     ]
    },
    {
     "data": {
      "application/vnd.jupyter.widget-view+json": {
       "model_id": "073c0f4c281141fbba7aad5d9f575b4f",
       "version_major": 2,
       "version_minor": 0
      },
      "text/plain": [
       "Calibrating Rotation: 0step [00:00, ?step/s]"
      ]
     },
     "metadata": {},
     "output_type": "display_data"
    },
    {
     "name": "stdout",
     "output_type": "stream",
     "text": [
      "step_count:36: final position: 5.16 degrees\n",
      "resetting world..........................................\n"
     ]
    },
    {
     "data": {
      "application/vnd.jupyter.widget-view+json": {
       "model_id": "0d298d79c2044d418cefc3200c1c1272",
       "version_major": 2,
       "version_minor": 0
      },
      "text/plain": [
       "Calibrating Rotation: 0step [00:00, ?step/s]"
      ]
     },
     "metadata": {},
     "output_type": "display_data"
    },
    {
     "name": "stdout",
     "output_type": "stream",
     "text": [
      "step_count:36: final position: 5.16 degrees\n",
      "resetting world..........................................\n"
     ]
    },
    {
     "data": {
      "application/vnd.jupyter.widget-view+json": {
       "model_id": "d81de578ff974a95b8be7d3f972c92b1",
       "version_major": 2,
       "version_minor": 0
      },
      "text/plain": [
       "Calibrating Rotation: 0step [00:00, ?step/s]"
      ]
     },
     "metadata": {},
     "output_type": "display_data"
    },
    {
     "name": "stdout",
     "output_type": "stream",
     "text": [
      "step_count:36: final position: 6.88 degrees\n",
      "resetting world..........................................\n"
     ]
    },
    {
     "data": {
      "application/vnd.jupyter.widget-view+json": {
       "model_id": "a0872902d6664cbcac4b6a7d913dce20",
       "version_major": 2,
       "version_minor": 0
      },
      "text/plain": [
       "Calibrating Rotation: 0step [00:00, ?step/s]"
      ]
     },
     "metadata": {},
     "output_type": "display_data"
    },
    {
     "name": "stdout",
     "output_type": "stream",
     "text": [
      "step_count:36: final position: 4.58 degrees\n",
      "resetting world..........................................\n"
     ]
    },
    {
     "data": {
      "application/vnd.jupyter.widget-view+json": {
       "model_id": "9d36aa12182a4a9aacc18f540b9d74fb",
       "version_major": 2,
       "version_minor": 0
      },
      "text/plain": [
       "Calibrating Rotation: 0step [00:00, ?step/s]"
      ]
     },
     "metadata": {},
     "output_type": "display_data"
    },
    {
     "name": "stdout",
     "output_type": "stream",
     "text": [
      "step_count:36: final position: 4.01 degrees\n",
      "resetting world..........................................\n"
     ]
    },
    {
     "data": {
      "application/vnd.jupyter.widget-view+json": {
       "model_id": "986fe6d486204e7e9469eaca98c28b7d",
       "version_major": 2,
       "version_minor": 0
      },
      "text/plain": [
       "Calibrating Rotation: 0step [00:00, ?step/s]"
      ]
     },
     "metadata": {},
     "output_type": "display_data"
    },
    {
     "name": "stdout",
     "output_type": "stream",
     "text": [
      "step_count:36: final position: 4.58 degrees\n",
      "resetting world..........................................\n"
     ]
    },
    {
     "data": {
      "application/vnd.jupyter.widget-view+json": {
       "model_id": "ae6d46d86aba44368e8191bf9a2bd7d1",
       "version_major": 2,
       "version_minor": 0
      },
      "text/plain": [
       "Calibrating Rotation: 0step [00:00, ?step/s]"
      ]
     },
     "metadata": {},
     "output_type": "display_data"
    },
    {
     "name": "stdout",
     "output_type": "stream",
     "text": [
      "step_count:36: final position: 4.58 degrees\n",
      "resetting world..........................................\n"
     ]
    },
    {
     "data": {
      "application/vnd.jupyter.widget-view+json": {
       "model_id": "a9b66e02fcb54e5e919c3bd1e2476a34",
       "version_major": 2,
       "version_minor": 0
      },
      "text/plain": [
       "Calibrating Rotation: 0step [00:00, ?step/s]"
      ]
     },
     "metadata": {},
     "output_type": "display_data"
    },
    {
     "name": "stdout",
     "output_type": "stream",
     "text": [
      "step_count:36: final position: 6.30 degrees\n",
      "resetting world..........................................\n"
     ]
    },
    {
     "data": {
      "application/vnd.jupyter.widget-view+json": {
       "model_id": "91621be0fbe34960bbcebf251c7f4951",
       "version_major": 2,
       "version_minor": 0
      },
      "text/plain": [
       "Calibrating Rotation: 0step [00:00, ?step/s]"
      ]
     },
     "metadata": {},
     "output_type": "display_data"
    },
    {
     "name": "stdout",
     "output_type": "stream",
     "text": [
      "step_count:36: final position: 4.58 degrees\n",
      "resetting world..........................................\n"
     ]
    },
    {
     "data": {
      "application/vnd.jupyter.widget-view+json": {
       "model_id": "5b06269a68b0469e9fb347faf4fa80cb",
       "version_major": 2,
       "version_minor": 0
      },
      "text/plain": [
       "Calibrating Rotation: 0step [00:00, ?step/s]"
      ]
     },
     "metadata": {},
     "output_type": "display_data"
    },
    {
     "name": "stdout",
     "output_type": "stream",
     "text": [
      "step_count:36: final position: 4.58 degrees\n",
      "resetting world..........................................\n"
     ]
    },
    {
     "data": {
      "application/vnd.jupyter.widget-view+json": {
       "model_id": "1bc7fddd8a854a3895a9a910492b2daa",
       "version_major": 2,
       "version_minor": 0
      },
      "text/plain": [
       "Calibrating Rotation: 0step [00:00, ?step/s]"
      ]
     },
     "metadata": {},
     "output_type": "display_data"
    },
    {
     "name": "stdout",
     "output_type": "stream",
     "text": [
      "step_count:36: final position: 4.58 degrees\n",
      "resetting world..........................................\n"
     ]
    },
    {
     "data": {
      "application/vnd.jupyter.widget-view+json": {
       "model_id": "10bb91edbaca4ac5aa4a4f7d9753bccd",
       "version_major": 2,
       "version_minor": 0
      },
      "text/plain": [
       "Calibrating Rotation: 0step [00:00, ?step/s]"
      ]
     },
     "metadata": {},
     "output_type": "display_data"
    },
    {
     "name": "stdout",
     "output_type": "stream",
     "text": [
      "step_count:36: final position: 4.58 degrees\n",
      "resetting world..........................................\n"
     ]
    },
    {
     "data": {
      "application/vnd.jupyter.widget-view+json": {
       "model_id": "bad5f934583e408cbfeea37a93bd5a3d",
       "version_major": 2,
       "version_minor": 0
      },
      "text/plain": [
       "Calibrating Rotation: 0step [00:00, ?step/s]"
      ]
     },
     "metadata": {},
     "output_type": "display_data"
    },
    {
     "name": "stdout",
     "output_type": "stream",
     "text": [
      "step_count:36: final position: 4.58 degrees\n",
      "resetting world..........................................\n"
     ]
    },
    {
     "data": {
      "application/vnd.jupyter.widget-view+json": {
       "model_id": "b7c96adc7de24cedaa98e1a50adf8148",
       "version_major": 2,
       "version_minor": 0
      },
      "text/plain": [
       "Calibrating Rotation: 0step [00:00, ?step/s]"
      ]
     },
     "metadata": {},
     "output_type": "display_data"
    },
    {
     "name": "stdout",
     "output_type": "stream",
     "text": [
      "step_count:36: final position: 4.58 degrees\n",
      "resetting world..........................................\n"
     ]
    },
    {
     "data": {
      "application/vnd.jupyter.widget-view+json": {
       "model_id": "8cdab545c7b14023a2e9fe29014b67e8",
       "version_major": 2,
       "version_minor": 0
      },
      "text/plain": [
       "Calibrating Rotation: 0step [00:00, ?step/s]"
      ]
     },
     "metadata": {},
     "output_type": "display_data"
    },
    {
     "name": "stdout",
     "output_type": "stream",
     "text": [
      "step_count:36: final position: 4.58 degrees\n"
     ]
    },
    {
     "data": {
      "image/png": "[encoded data removed]",
      "text/plain": [
       "<Figure size 1200x400 with 2 Axes>"
      ]
     },
     "metadata": {},
     "output_type": "display_data"
    },
    {
     "name": "stdout",
     "output_type": "stream",
     "text": [
      "resetting world..........................................\n"
     ]
    },
    {
     "data": {
      "application/vnd.jupyter.widget-view+json": {
       "model_id": "11cdfa9eefa74919bae0b7cf22e3d8de",
       "version_major": 2,
       "version_minor": 0
      },
      "text/plain": [
       "Calibrating Rotation: 0step [00:00, ?step/s]"
      ]
     },
     "metadata": {},
     "output_type": "display_data"
    },
    {
     "name": "stdout",
     "output_type": "stream",
     "text": [
      "step_count:17: final position: 9.17 degrees\n",
      "resetting world..........................................\n"
     ]
    },
    {
     "data": {
      "application/vnd.jupyter.widget-view+json": {
       "model_id": "d2ef3bed68eb44bb9bf9542406624a3e",
       "version_major": 2,
       "version_minor": 0
      },
      "text/plain": [
       "Calibrating Rotation: 0step [00:00, ?step/s]"
      ]
     },
     "metadata": {},
     "output_type": "display_data"
    },
    {
     "name": "stdout",
     "output_type": "stream",
     "text": [
      "step_count:17: final position: 13.75 degrees\n",
      "resetting world..........................................\n"
     ]
    },
    {
     "data": {
      "application/vnd.jupyter.widget-view+json": {
       "model_id": "12995efbcd164711ac7c8323eea9b4c3",
       "version_major": 2,
       "version_minor": 0
      },
      "text/plain": [
       "Calibrating Rotation: 0step [00:00, ?step/s]"
      ]
     },
     "metadata": {},
     "output_type": "display_data"
    },
    {
     "name": "stdout",
     "output_type": "stream",
     "text": [
      "step_count:17: final position: 10.89 degrees\n",
      "resetting world..........................................\n"
     ]
    },
    {
     "data": {
      "application/vnd.jupyter.widget-view+json": {
       "model_id": "5cb5face2636452282bd9f04eceda24f",
       "version_major": 2,
       "version_minor": 0
      },
      "text/plain": [
       "Calibrating Rotation: 0step [00:00, ?step/s]"
      ]
     },
     "metadata": {},
     "output_type": "display_data"
    },
    {
     "name": "stdout",
     "output_type": "stream",
     "text": [
      "step_count:17: final position: 14.90 degrees\n",
      "resetting world..........................................\n"
     ]
    },
    {
     "data": {
      "application/vnd.jupyter.widget-view+json": {
       "model_id": "2c2175bb54464cfab851d4d992297fa2",
       "version_major": 2,
       "version_minor": 0
      },
      "text/plain": [
       "Calibrating Rotation: 0step [00:00, ?step/s]"
      ]
     },
     "metadata": {},
     "output_type": "display_data"
    },
    {
     "name": "stdout",
     "output_type": "stream",
     "text": [
      "step_count:17: final position: 15.47 degrees\n",
      "resetting world..........................................\n"
     ]
    },
    {
     "data": {
      "application/vnd.jupyter.widget-view+json": {
       "model_id": "fcda977105654fc8a1e7430441dc99d4",
       "version_major": 2,
       "version_minor": 0
      },
      "text/plain": [
       "Calibrating Rotation: 0step [00:00, ?step/s]"
      ]
     },
     "metadata": {},
     "output_type": "display_data"
    },
    {
     "name": "stdout",
     "output_type": "stream",
     "text": [
      "step_count:17: final position: 13.75 degrees\n",
      "resetting world..........................................\n"
     ]
    },
    {
     "data": {
      "application/vnd.jupyter.widget-view+json": {
       "model_id": "303bb34dfea24360bfd45a3be9d521e5",
       "version_major": 2,
       "version_minor": 0
      },
      "text/plain": [
       "Calibrating Rotation: 0step [00:00, ?step/s]"
      ]
     },
     "metadata": {},
     "output_type": "display_data"
    },
    {
     "name": "stdout",
     "output_type": "stream",
     "text": [
      "step_count:17: final position: 14.32 degrees\n",
      "resetting world..........................................\n"
     ]
    },
    {
     "data": {
      "application/vnd.jupyter.widget-view+json": {
       "model_id": "a649279ae34d4e2692b7956410d9ddb4",
       "version_major": 2,
       "version_minor": 0
      },
      "text/plain": [
       "Calibrating Rotation: 0step [00:00, ?step/s]"
      ]
     },
     "metadata": {},
     "output_type": "display_data"
    },
    {
     "name": "stdout",
     "output_type": "stream",
     "text": [
      "step_count:17: final position: 14.32 degrees\n",
      "resetting world..........................................\n"
     ]
    },
    {
     "data": {
      "application/vnd.jupyter.widget-view+json": {
       "model_id": "01d4542e03cc429f916bdd70fc013943",
       "version_major": 2,
       "version_minor": 0
      },
      "text/plain": [
       "Calibrating Rotation: 0step [00:00, ?step/s]"
      ]
     },
     "metadata": {},
     "output_type": "display_data"
    },
    {
     "name": "stdout",
     "output_type": "stream",
     "text": [
      "step_count:17: final position: 14.32 degrees\n",
      "resetting world..........................................\n"
     ]
    },
    {
     "data": {
      "application/vnd.jupyter.widget-view+json": {
       "model_id": "b7bb5e616ab34a62a54f41a10c2a56a3",
       "version_major": 2,
       "version_minor": 0
      },
      "text/plain": [
       "Calibrating Rotation: 0step [00:00, ?step/s]"
      ]
     },
     "metadata": {},
     "output_type": "display_data"
    },
    {
     "name": "stdout",
     "output_type": "stream",
     "text": [
      "step_count:17: final position: 14.32 degrees\n",
      "resetting world..........................................\n"
     ]
    },
    {
     "data": {
      "application/vnd.jupyter.widget-view+json": {
       "model_id": "aab449065c1b4603a267c2c2a1034a05",
       "version_major": 2,
       "version_minor": 0
      },
      "text/plain": [
       "Calibrating Rotation: 0step [00:00, ?step/s]"
      ]
     },
     "metadata": {},
     "output_type": "display_data"
    },
    {
     "name": "stdout",
     "output_type": "stream",
     "text": [
      "step_count:17: final position: 16.62 degrees\n",
      "resetting world..........................................\n"
     ]
    },
    {
     "data": {
      "application/vnd.jupyter.widget-view+json": {
       "model_id": "0c06fd2f837a46fa902b430027b0af55",
       "version_major": 2,
       "version_minor": 0
      },
      "text/plain": [
       "Calibrating Rotation: 0step [00:00, ?step/s]"
      ]
     },
     "metadata": {},
     "output_type": "display_data"
    },
    {
     "name": "stdout",
     "output_type": "stream",
     "text": [
      "step_count:17: final position: 14.90 degrees\n",
      "resetting world..........................................\n"
     ]
    },
    {
     "data": {
      "application/vnd.jupyter.widget-view+json": {
       "model_id": "37aa279a54a9428487b518bfed81b777",
       "version_major": 2,
       "version_minor": 0
      },
      "text/plain": [
       "Calibrating Rotation: 0step [00:00, ?step/s]"
      ]
     },
     "metadata": {},
     "output_type": "display_data"
    },
    {
     "name": "stdout",
     "output_type": "stream",
     "text": [
      "step_count:17: final position: 14.90 degrees\n",
      "resetting world..........................................\n"
     ]
    },
    {
     "data": {
      "application/vnd.jupyter.widget-view+json": {
       "model_id": "a7ef3f1797a9432bbde9764554bbf7b0",
       "version_major": 2,
       "version_minor": 0
      },
      "text/plain": [
       "Calibrating Rotation: 0step [00:00, ?step/s]"
      ]
     },
     "metadata": {},
     "output_type": "display_data"
    },
    {
     "name": "stdout",
     "output_type": "stream",
     "text": [
      "step_count:17: final position: 14.90 degrees\n",
      "resetting world..........................................\n"
     ]
    },
    {
     "data": {
      "application/vnd.jupyter.widget-view+json": {
       "model_id": "3828b1d7b01b44969023aa640d455caf",
       "version_major": 2,
       "version_minor": 0
      },
      "text/plain": [
       "Calibrating Rotation: 0step [00:00, ?step/s]"
      ]
     },
     "metadata": {},
     "output_type": "display_data"
    },
    {
     "name": "stdout",
     "output_type": "stream",
     "text": [
      "step_count:17: final position: 14.90 degrees\n",
      "resetting world..........................................\n"
     ]
    },
    {
     "data": {
      "application/vnd.jupyter.widget-view+json": {
       "model_id": "6f7b7efff7ff4e4d8ec6f482b23768c5",
       "version_major": 2,
       "version_minor": 0
      },
      "text/plain": [
       "Calibrating Rotation: 0step [00:00, ?step/s]"
      ]
     },
     "metadata": {},
     "output_type": "display_data"
    },
    {
     "name": "stdout",
     "output_type": "stream",
     "text": [
      "step_count:17: final position: 14.90 degrees\n",
      "resetting world..........................................\n"
     ]
    },
    {
     "data": {
      "application/vnd.jupyter.widget-view+json": {
       "model_id": "f8b1fab40aa74bc39e8384112bbdc096",
       "version_major": 2,
       "version_minor": 0
      },
      "text/plain": [
       "Calibrating Rotation: 0step [00:00, ?step/s]"
      ]
     },
     "metadata": {},
     "output_type": "display_data"
    },
    {
     "name": "stdout",
     "output_type": "stream",
     "text": [
      "step_count:17: final position: 16.62 degrees\n",
      "resetting world..........................................\n"
     ]
    },
    {
     "data": {
      "application/vnd.jupyter.widget-view+json": {
       "model_id": "0ed8da81ff094cc892d85f46184527bd",
       "version_major": 2,
       "version_minor": 0
      },
      "text/plain": [
       "Calibrating Rotation: 0step [00:00, ?step/s]"
      ]
     },
     "metadata": {},
     "output_type": "display_data"
    },
    {
     "name": "stdout",
     "output_type": "stream",
     "text": [
      "step_count:17: final position: 14.90 degrees\n",
      "resetting world..........................................\n"
     ]
    },
    {
     "data": {
      "application/vnd.jupyter.widget-view+json": {
       "model_id": "bf0f12dc3dee43d4899c21fb8e141224",
       "version_major": 2,
       "version_minor": 0
      },
      "text/plain": [
       "Calibrating Rotation: 0step [00:00, ?step/s]"
      ]
     },
     "metadata": {},
     "output_type": "display_data"
    },
    {
     "name": "stdout",
     "output_type": "stream",
     "text": [
      "step_count:17: final position: 14.90 degrees\n",
      "resetting world..........................................\n"
     ]
    },
    {
     "data": {
      "application/vnd.jupyter.widget-view+json": {
       "model_id": "3ac375a77199426ca44b44d55bd308d7",
       "version_major": 2,
       "version_minor": 0
      },
      "text/plain": [
       "Calibrating Rotation: 0step [00:00, ?step/s]"
      ]
     },
     "metadata": {},
     "output_type": "display_data"
    },
    {
     "name": "stdout",
     "output_type": "stream",
     "text": [
      "step_count:17: final position: 14.90 degrees\n"
     ]
    },
    {
     "data": {
      "image/png": "[encoded data removed]",
      "text/plain": [
       "<Figure size 1200x400 with 2 Axes>"
      ]
     },
     "metadata": {},
     "output_type": "display_data"
    },
    {
     "name": "stdout",
     "output_type": "stream",
     "text": [
      "resetting world..........................................\n"
     ]
    },
    {
     "data": {
      "application/vnd.jupyter.widget-view+json": {
       "model_id": "4db818c63f9643debc5c8b1ce5a458a8",
       "version_major": 2,
       "version_minor": 0
      },
      "text/plain": [
       "Calibrating Rotation: 0step [00:00, ?step/s]"
      ]
     },
     "metadata": {},
     "output_type": "display_data"
    },
    {
     "name": "stdout",
     "output_type": "stream",
     "text": [
      "step_count:8: final position: 2.86 degrees\n",
      "resetting world..........................................\n"
     ]
    },
    {
     "data": {
      "application/vnd.jupyter.widget-view+json": {
       "model_id": "d1399f536952441cb22e6543d7b18652",
       "version_major": 2,
       "version_minor": 0
      },
      "text/plain": [
       "Calibrating Rotation: 0step [00:00, ?step/s]"
      ]
     },
     "metadata": {},
     "output_type": "display_data"
    },
    {
     "name": "stdout",
     "output_type": "stream",
     "text": [
      "step_count:9: final position: 45.26 degrees\n",
      "resetting world..........................................\n"
     ]
    },
    {
     "data": {
      "application/vnd.jupyter.widget-view+json": {
       "model_id": "94818a50d6fc4fb38e018b1d0636010f",
       "version_major": 2,
       "version_minor": 0
      },
      "text/plain": [
       "Calibrating Rotation: 0step [00:00, ?step/s]"
      ]
     },
     "metadata": {},
     "output_type": "display_data"
    },
    {
     "name": "stdout",
     "output_type": "stream",
     "text": [
      "step_count:9: final position: 43.54 degrees\n",
      "resetting world..........................................\n"
     ]
    },
    {
     "data": {
      "application/vnd.jupyter.widget-view+json": {
       "model_id": "648aa0cb547548bb957febb7e752286d",
       "version_major": 2,
       "version_minor": 0
      },
      "text/plain": [
       "Calibrating Rotation: 0step [00:00, ?step/s]"
      ]
     },
     "metadata": {},
     "output_type": "display_data"
    },
    {
     "name": "stdout",
     "output_type": "stream",
     "text": [
      "step_count:8: final position: 10.31 degrees\n",
      "resetting world..........................................\n"
     ]
    },
    {
     "data": {
      "application/vnd.jupyter.widget-view+json": {
       "model_id": "ed5c2c5f0dec4c3580ee1edd468620b8",
       "version_major": 2,
       "version_minor": 0
      },
      "text/plain": [
       "Calibrating Rotation: 0step [00:00, ?step/s]"
      ]
     },
     "metadata": {},
     "output_type": "display_data"
    },
    {
     "name": "stdout",
     "output_type": "stream",
     "text": [
      "step_count:8: final position: 12.61 degrees\n",
      "resetting world..........................................\n"
     ]
    },
    {
     "data": {
      "application/vnd.jupyter.widget-view+json": {
       "model_id": "f80786b5420e4b07ab75fc026ae64b60",
       "version_major": 2,
       "version_minor": 0
      },
      "text/plain": [
       "Calibrating Rotation: 0step [00:00, ?step/s]"
      ]
     },
     "metadata": {},
     "output_type": "display_data"
    },
    {
     "name": "stdout",
     "output_type": "stream",
     "text": [
      "step_count:8: final position: 12.61 degrees\n",
      "resetting world..........................................\n"
     ]
    },
    {
     "data": {
      "application/vnd.jupyter.widget-view+json": {
       "model_id": "46c4fd51b9ba43a3a12f0c96c523cee9",
       "version_major": 2,
       "version_minor": 0
      },
      "text/plain": [
       "Calibrating Rotation: 0step [00:00, ?step/s]"
      ]
     },
     "metadata": {},
     "output_type": "display_data"
    },
    {
     "name": "stdout",
     "output_type": "stream",
     "text": [
      "step_count:8: final position: 0.57 degrees\n",
      "resetting world..........................................\n"
     ]
    },
    {
     "data": {
      "application/vnd.jupyter.widget-view+json": {
       "model_id": "f2f8fb694e9f45be970a3a6ee49cdfb2",
       "version_major": 2,
       "version_minor": 0
      },
      "text/plain": [
       "Calibrating Rotation: 0step [00:00, ?step/s]"
      ]
     },
     "metadata": {},
     "output_type": "display_data"
    },
    {
     "name": "stdout",
     "output_type": "stream",
     "text": [
      "step_count:9: final position: 44.12 degrees\n",
      "resetting world..........................................\n"
     ]
    },
    {
     "data": {
      "application/vnd.jupyter.widget-view+json": {
       "model_id": "bf0af41aeb1c4af582ddd233907800bc",
       "version_major": 2,
       "version_minor": 0
      },
      "text/plain": [
       "Calibrating Rotation: 0step [00:00, ?step/s]"
      ]
     },
     "metadata": {},
     "output_type": "display_data"
    },
    {
     "name": "stdout",
     "output_type": "stream",
     "text": [
      "step_count:8: final position: 12.61 degrees\n",
      "resetting world..........................................\n"
     ]
    },
    {
     "data": {
      "application/vnd.jupyter.widget-view+json": {
       "model_id": "f265a0d7cabe45979a5af11bcec2b365",
       "version_major": 2,
       "version_minor": 0
      },
      "text/plain": [
       "Calibrating Rotation: 0step [00:00, ?step/s]"
      ]
     },
     "metadata": {},
     "output_type": "display_data"
    },
    {
     "name": "stdout",
     "output_type": "stream",
     "text": [
      "step_count:8: final position: 12.61 degrees\n",
      "resetting world..........................................\n"
     ]
    },
    {
     "data": {
      "application/vnd.jupyter.widget-view+json": {
       "model_id": "676280e12aa44ef1a892899edf68c00a",
       "version_major": 2,
       "version_minor": 0
      },
      "text/plain": [
       "Calibrating Rotation: 0step [00:00, ?step/s]"
      ]
     },
     "metadata": {},
     "output_type": "display_data"
    },
    {
     "name": "stdout",
     "output_type": "stream",
     "text": [
      "step_count:8: final position: 12.61 degrees\n",
      "resetting world..........................................\n"
     ]
    },
    {
     "data": {
      "application/vnd.jupyter.widget-view+json": {
       "model_id": "a1a3634c411447299001d15856091aaf",
       "version_major": 2,
       "version_minor": 0
      },
      "text/plain": [
       "Calibrating Rotation: 0step [00:00, ?step/s]"
      ]
     },
     "metadata": {},
     "output_type": "display_data"
    },
    {
     "name": "stdout",
     "output_type": "stream",
     "text": [
      "step_count:8: final position: 0.57 degrees\n",
      "resetting world..........................................\n"
     ]
    },
    {
     "data": {
      "application/vnd.jupyter.widget-view+json": {
       "model_id": "9e27590fd2ff499fa91d1515e0c3928f",
       "version_major": 2,
       "version_minor": 0
      },
      "text/plain": [
       "Calibrating Rotation: 0step [00:00, ?step/s]"
      ]
     },
     "metadata": {},
     "output_type": "display_data"
    },
    {
     "name": "stdout",
     "output_type": "stream",
     "text": [
      "step_count:9: final position: 44.12 degrees\n",
      "resetting world..........................................\n"
     ]
    },
    {
     "data": {
      "application/vnd.jupyter.widget-view+json": {
       "model_id": "95ffa48480b24fb0883de726f529a50d",
       "version_major": 2,
       "version_minor": 0
      },
      "text/plain": [
       "Calibrating Rotation: 0step [00:00, ?step/s]"
      ]
     },
     "metadata": {},
     "output_type": "display_data"
    },
    {
     "name": "stdout",
     "output_type": "stream",
     "text": [
      "step_count:8: final position: 10.89 degrees\n",
      "resetting world..........................................\n"
     ]
    },
    {
     "data": {
      "application/vnd.jupyter.widget-view+json": {
       "model_id": "f997c310cc1544fdbe70a7cf2e0bd926",
       "version_major": 2,
       "version_minor": 0
      },
      "text/plain": [
       "Calibrating Rotation: 0step [00:00, ?step/s]"
      ]
     },
     "metadata": {},
     "output_type": "display_data"
    },
    {
     "name": "stdout",
     "output_type": "stream",
     "text": [
      "step_count:8: final position: 12.61 degrees\n",
      "resetting world..........................................\n"
     ]
    },
    {
     "data": {
      "application/vnd.jupyter.widget-view+json": {
       "model_id": "2f2747632e2d4c01b16286c7ebface1e",
       "version_major": 2,
       "version_minor": 0
      },
      "text/plain": [
       "Calibrating Rotation: 0step [00:00, ?step/s]"
      ]
     },
     "metadata": {},
     "output_type": "display_data"
    },
    {
     "name": "stdout",
     "output_type": "stream",
     "text": [
      "step_count:8: final position: 12.61 degrees\n",
      "resetting world..........................................\n"
     ]
    },
    {
     "data": {
      "application/vnd.jupyter.widget-view+json": {
       "model_id": "969ebb42f5b04473a51bca48be462515",
       "version_major": 2,
       "version_minor": 0
      },
      "text/plain": [
       "Calibrating Rotation: 0step [00:00, ?step/s]"
      ]
     },
     "metadata": {},
     "output_type": "display_data"
    },
    {
     "name": "stdout",
     "output_type": "stream",
     "text": [
      "step_count:8: final position: 0.57 degrees\n",
      "resetting world..........................................\n"
     ]
    },
    {
     "data": {
      "application/vnd.jupyter.widget-view+json": {
       "model_id": "454b162b038743bda49687466dba2702",
       "version_major": 2,
       "version_minor": 0
      },
      "text/plain": [
       "Calibrating Rotation: 0step [00:00, ?step/s]"
      ]
     },
     "metadata": {},
     "output_type": "display_data"
    },
    {
     "name": "stdout",
     "output_type": "stream",
     "text": [
      "step_count:9: final position: 44.12 degrees\n",
      "resetting world..........................................\n"
     ]
    },
    {
     "data": {
      "application/vnd.jupyter.widget-view+json": {
       "model_id": "a8e15dfeb057431ba0d3e2dfeb7bbdeb",
       "version_major": 2,
       "version_minor": 0
      },
      "text/plain": [
       "Calibrating Rotation: 0step [00:00, ?step/s]"
      ]
     },
     "metadata": {},
     "output_type": "display_data"
    },
    {
     "name": "stdout",
     "output_type": "stream",
     "text": [
      "step_count:8: final position: 10.89 degrees\n",
      "resetting world..........................................\n"
     ]
    },
    {
     "data": {
      "application/vnd.jupyter.widget-view+json": {
       "model_id": "73a6c121852940eeba5b866344d3aeb0",
       "version_major": 2,
       "version_minor": 0
      },
      "text/plain": [
       "Calibrating Rotation: 0step [00:00, ?step/s]"
      ]
     },
     "metadata": {},
     "output_type": "display_data"
    },
    {
     "name": "stdout",
     "output_type": "stream",
     "text": [
      "step_count:8: final position: 12.61 degrees\n"
     ]
    },
    {
     "data": {
      "image/png": "[encoded data removed]",
      "text/plain": [
       "<Figure size 1200x400 with 2 Axes>"
      ]
     },
     "metadata": {},
     "output_type": "display_data"
    },
    {
     "ename": "TypeError",
     "evalue": "'int' object is not iterable",
     "output_type": "error",
     "traceback": [
      "\u001b[0;31m---------------------------------------------------------------------------\u001b[0m",
      "\u001b[0;31mTypeError\u001b[0m                                 Traceback (most recent call last)",
      "Cell \u001b[0;32mIn[14], line 47\u001b[0m\n\u001b[1;32m     45\u001b[0m \u001b[38;5;28;01mfor\u001b[39;00m frequency \u001b[38;5;129;01min\u001b[39;00m frequencies:\n\u001b[1;32m     46\u001b[0m     \u001b[38;5;28;01mfor\u001b[39;00m angular_velocity \u001b[38;5;129;01min\u001b[39;00m angular_velocities: \n\u001b[0;32m---> 47\u001b[0m         \u001b[38;5;28;01mfor\u001b[39;00m nSteps \u001b[38;5;129;01min\u001b[39;00m nSteps:\n\u001b[1;32m     48\u001b[0m             results \u001b[38;5;241m=\u001b[39m measure_rotation(env, nTrials\u001b[38;5;241m=\u001b[39m\u001b[38;5;241m20\u001b[39m, frequency\u001b[38;5;241m=\u001b[39mfrequency, angular_velocity\u001b[38;5;241m=\u001b[39mangular_velocity, nSteps\u001b[38;5;241m=\u001b[39mnSteps)\n\u001b[1;32m     49\u001b[0m             angle_per_turn \u001b[38;5;241m=\u001b[39m (\u001b[38;5;241m2\u001b[39m \u001b[38;5;241m*\u001b[39m np\u001b[38;5;241m.\u001b[39mpi \u001b[38;5;241m+\u001b[39m results[:, \u001b[38;5;241m0\u001b[39m]) \u001b[38;5;241m/\u001b[39m results[:, \u001b[38;5;241m1\u001b[39m]\n",
      "\u001b[0;31mTypeError\u001b[0m: 'int' object is not iterable"
     ]
    }
   ],
   "source": [
    "def measure_rotation(robot : RobEnv, nTrials=20, frequency=10, angular_velocity=0.3, nSteps=8):\n",
    "    \n",
    "    robot.freq = frequency\n",
    "    robot.angular_velocity = angular_velocity   \n",
    "    robot.n = nSteps\n",
    "\n",
    "    results  = np.zeros((nTrials, 2)) \n",
    "    start_time = time.time()\n",
    "\n",
    "    for i in range(nTrials):\n",
    "        robot.reset()\n",
    "\n",
    "        step_count = 0\n",
    "        full_rotation_detected = False\n",
    "        half_rotation_detected = False\n",
    "\n",
    "        pbar = tqdm(desc=\"Calibrating Rotation\", unit=\"step\")\n",
    "        while(not full_rotation_detected):\n",
    "            \n",
    "            step_count += 1\n",
    "            robot.step(LEFT)\n",
    "\n",
    "            pbar.set_postfix({\n",
    "                \"rotation (°)\": f\"{np.degrees(robot.θ):.2f}\",\n",
    "                \"step\": step_count,\n",
    "                \"elapsed (s)\": f\"{time.time() - start_time:.1f}\"\n",
    "            })\n",
    "\n",
    "            if (robot.θ > pi):\n",
    "                half_rotation_detected = True\n",
    "            if (robot.θ <pi and half_rotation_detected):\n",
    "                full_rotation_detected = True\n",
    "            \n",
    "        print(f\"step_count:{step_count}: final position: {np.degrees(robot.θ):.2f} degrees\")\n",
    "        results [i,0] = robot.θ\n",
    "        results [i,1] = step_count\n",
    "    \n",
    "    return results\n",
    "\n",
    "#Let's try to find the best parameters for the rotation\n",
    "frequencies = [10,20,30]\n",
    "angular_velocities = [0.3, 0.6, 0.9]\n",
    "nSteps = [8,16,32]\n",
    "\n",
    "for frequency in frequencies:\n",
    "    for angular_velocity in angular_velocities: \n",
    "        for n in nSteps:\n",
    "            results = measure_rotation(env, nTrials=20, frequency=frequency, angular_velocity=angular_velocity, nSteps=n)\n",
    "            angle_per_turn = (2 * np.pi + results[:, 0]) / results[:, 1]\n",
    "            results = np.hstack([results, angle_per_turn[:, None]])\n",
    "\n",
    "            fig, (ax1, ax2) = plt.subplots(1, 2, figsize=(12, 4))\n",
    "\n",
    "            # Plot final errors\n",
    "            ax1.plot(np.degrees(results[:,2]), 'o-')\n",
    "            ax1.set_title(f'Rotation per Step frequency:{frequency} angular_velocity:{angular_velocity} n:{n}')\n",
    "            ax1.set_xlabel('Trial Number')\n",
    "            ax1.set_ylabel('Rotation (degrees)')\n",
    "            ax1.grid(True)\n",
    "\n",
    "            # Plot step counts\n",
    "            ax2.plot(results[:,1], 'o-')\n",
    "            ax2.set_title('Steps Taken vs Trial')\n",
    "            ax2.set_xlabel('Trial Number')\n",
    "            ax2.set_ylabel('Number of Steps')\n",
    "            ax2.grid(True)\n",
    "\n",
    "            plt.tight_layout()\n",
    "            plt.savefig(f'plot_measure_rotation_{frequency}_{angular_velocity}_{n}.png')\n",
    "            plt.show()\n"
   ]
  },
  {
   "cell_type": "code",
   "execution_count": 13,
   "id": "24178b6d",
   "metadata": {},
   "outputs": [
    {
     "data": {
      "image/png": "[encoded data removed]",
      "text/plain": [
       "<Figure size 1200x400 with 2 Axes>"
      ]
     },
     "metadata": {},
     "output_type": "display_data"
    }
   ],
   "source": [
    "angle_per_turn = (2 * np.pi + results[:, 0]) / results[:, 1]\n",
    "results = np.hstack([results, angle_per_turn[:, None]])\n",
    "\n",
    "fig, (ax1, ax2) = plt.subplots(1, 2, figsize=(12, 4))\n",
    "\n",
    "# Plot final errors\n",
    "ax1.plot(np.degrees(results[:,2]), 'o-')\n",
    "ax1.set_title('Rotation per Step')\n",
    "ax1.set_xlabel('Trial Number')\n",
    "ax1.set_ylabel('Rotation (degrees)')\n",
    "ax1.grid(True)\n",
    "\n",
    "# Plot step counts\n",
    "ax2.plot(results[:,1], 'o-')\n",
    "ax2.set_title('Steps Taken vs Trial')\n",
    "ax2.set_xlabel('Trial Number')\n",
    "ax2.set_ylabel('Number of Steps')\n",
    "ax2.grid(True)\n",
    "\n",
    "plt.tight_layout()\n",
    "plt.show()\n"
   ]
  },
  {
   "cell_type": "code",
   "execution_count": null,
   "id": "a0768bd8",
   "metadata": {},
   "outputs": [
    {
     "name": "stdout",
     "output_type": "stream",
     "text": [
      "resetting world..........................................\n",
      "CPU times: user 179 ms, sys: 14.3 ms, total: 194 ms\n",
      "Wall time: 4.59 s\n"
     ]
    }
   ],
   "source": [
    "def rotate_test(env):\n",
    "    env.reset()\n",
    "    for _ in range(16):\n",
    "        env.step(LEFT)\n",
    "\n",
    "%time rotate_test(env)"
   ]
  },
  {
   "cell_type": "markdown",
   "id": "f61dbca2",
   "metadata": {},
   "source": [
    "Note that each time you run the above code, the robot's final position may vary slightly due to factors such as friction and other physical world influences."
   ]
  },
  {
   "cell_type": "markdown",
   "id": "5f5b4dc7-35a9-4bf7-9e15-72e8b4945e37",
   "metadata": {},
   "source": [
    "### Translation calibration, moving in a straight line\n",
    "You could try to increase the speed but that will result in bending."
   ]
  },
  {
   "cell_type": "code",
   "execution_count": 1,
   "id": "a66e174d-bcac-450b-86ad-b77a1677401c",
   "metadata": {
    "scrolled": true
   },
   "outputs": [
    {
     "ename": "NameError",
     "evalue": "name 'env' is not defined",
     "output_type": "error",
     "traceback": [
      "\u001b[0;31m---------------------------------------------------------------------------\u001b[0m",
      "\u001b[0;31mNameError\u001b[0m                                 Traceback (most recent call last)",
      "Cell \u001b[0;32mIn[1], line 6\u001b[0m\n\u001b[1;32m      3\u001b[0m     \u001b[38;5;28;01mfor\u001b[39;00m _ \u001b[38;5;129;01min\u001b[39;00m \u001b[38;5;28mrange\u001b[39m(\u001b[38;5;241m10\u001b[39m):\n\u001b[1;32m      4\u001b[0m         env\u001b[38;5;241m.\u001b[39mstep()\n\u001b[0;32m----> 6\u001b[0m forward_test(\u001b[43menv\u001b[49m)\n",
      "\u001b[0;31mNameError\u001b[0m: name 'env' is not defined"
     ]
    }
   ],
   "source": [
    "def forward_test(env):\n",
    "    env.reset()\n",
    "    for _ in range(10):\n",
    "        env.step()\n",
    "\n",
    "forward_test(env)"
   ]
  },
  {
   "cell_type": "markdown",
   "id": "8e29eb5b-38ef-4571-9372-d577cf5c8e29",
   "metadata": {},
   "source": [
    "### Manual solution (policy) to the given problem"
   ]
  },
  {
   "cell_type": "code",
   "execution_count": 18,
   "id": "7fbb1b6f-6d70-4ce9-ad4d-86fda40f47fa",
   "metadata": {
    "scrolled": true
   },
   "outputs": [
    {
     "name": "stdout",
     "output_type": "stream",
     "text": [
      "resetting world..........................................\n",
      "CPU times: user 150 ms, sys: 23.5 ms, total: 174 ms\n",
      "Wall time: 3.91 s\n"
     ]
    }
   ],
   "source": [
    "def optimal_policy1(env):\n",
    "    env.reset( )\n",
    "    for _ in range(2): env.step(0)\n",
    "    for _ in range(8): env.step()\n",
    "    \n",
    "def optimal_policy1(env):\n",
    "    env.reset( )\n",
    "\n",
    "    for _ in range(3): env.step(0)\n",
    "    for _ in range(5): env.step()\n",
    "    for _ in range(3): env.step(0)\n",
    "    for _ in range(2): env.step()\n",
    "\n",
    "\n",
    "%time optimal_policy1(env)"
   ]
  },
  {
   "cell_type": "code",
   "execution_count": 20,
   "id": "3f500c29",
   "metadata": {},
   "outputs": [
    {
     "name": "stdout",
     "output_type": "stream",
     "text": [
      "resetting world..........................................\n",
      "CPU times: user 301 ms, sys: 49.5 ms, total: 351 ms\n",
      "Wall time: 7.76 s\n"
     ]
    }
   ],
   "source": [
    "def optimal_policy2(env):\n",
    "    env.reset( )\n",
    "\n",
    "    for _ in range(13): env.step(2)\n",
    "    for _ in range(6): env.step()\n",
    "    for _ in range(5): env.step(2)\n",
    "    for _ in range(2): env.step()\n",
    "\n",
    "%time optimal_policy2(env)"
   ]
  },
  {
   "cell_type": "markdown",
   "id": "43a1ab05-88e3-412e-afc5-cf216a06c7f4",
   "metadata": {},
   "source": [
    "# Applying an RL Algorithms to Train a Turtlebot3 to Autonomously Reach the Goals"
   ]
  },
  {
   "cell_type": "markdown",
   "id": "14c73384-1f1e-46db-8f99-49d06bcb6ad4",
   "metadata": {},
   "source": [
    "## Vectorised Environment\n",
    "Let us now try to changed teh states from a number/index into vector.\n",
    "We will simply utilise the laser scans. We can use them as is or try to turn them into some form of a hot encoding or tile coding. Below we show a simple implementaiton which you can build on. Note that we will import algorithms from RLv instead of RL so that we can use the vectorised linear model RL algorithms such Sarsa and Q_learning."
   ]
  },
  {
   "cell_type": "code",
   "execution_count": 15,
   "id": "e78f56ef",
   "metadata": {},
   "outputs": [],
   "source": [
    "from rl.rlln import *"
   ]
  },
  {
   "cell_type": "code",
   "execution_count": 16,
   "id": "08e33148-992e-4d81-8cce-8e4a0e6d53e2",
   "metadata": {},
   "outputs": [],
   "source": [
    "class vRobEnv(RobEnv):\n",
    "    def __init__(self, **kw):\n",
    "        super().__init__(**kw)\n",
    "        self.nF = len(self.scans)\n",
    "        print('state size(laser beams)=', self.nF)\n",
    "\n",
    "    # overridding reward_, \n",
    "    # you may use goal_dist, Δgoal_dist, θgoal_dist, Δθgoal_dist or at_wall and at_goal\n",
    "    def reward_(self, a):\n",
    "        reward = sum([-1, 10*self.at_goal])\n",
    "        if self.verbose and reward>-1: print('reward =', reward)#; print(f'action = {a}')\n",
    "        return reward\n",
    "    \n",
    "    # overriding state representation, you may only use the laser self.scans\n",
    "    def s_(self):\n",
    "        max, min = self.max_range, self.min_range\n",
    "        # returns a normalise and descritised componenets\n",
    "        return  1*(((self.scans - min)/(max - min))>=.5)\n"
   ]
  },
  {
   "cell_type": "code",
   "execution_count": 17,
   "id": "2067951c",
   "metadata": {},
   "outputs": [
    {
     "name": "stdout",
     "output_type": "stream",
     "text": [
      "resetting world..........................................\n",
      "speed  =  2.0\n",
      "θspeed =  0.9\n",
      "state size(laser beams)= 360\n"
     ]
    }
   ],
   "source": [
    "venv = vRobEnv(speed=speed, θspeed=θspeed, n=n,verbose=True) "
   ]
  },
  {
   "cell_type": "markdown",
   "id": "da5ed577",
   "metadata": {},
   "source": [
    "Now it is time to apply Sarsa on robotics! Note that this might not generate a useful policy yet. You must adjust the above code and tune your RL method hyperparameters."
   ]
  },
  {
   "cell_type": "code",
   "execution_count": 18,
   "id": "d0a67882",
   "metadata": {},
   "outputs": [],
   "source": [
    "vqlearn = Qlearn(env=venv, α=1e-5, q0=0, ε=.0, \\\n",
    "                 max_t=1000, episodes=100, \\\n",
    "                 self_path='vQlearn_experiment',\\\n",
    "                 seed=1, **demoGame())"
   ]
  },
  {
   "cell_type": "code",
   "execution_count": 17,
   "id": "d45578b6",
   "metadata": {},
   "outputs": [],
   "source": [
    "# vqlearn.W[2]"
   ]
  },
  {
   "cell_type": "markdown",
   "id": "275d30f4",
   "metadata": {},
   "source": [
    "### Resume Training and Extend training\n",
    "If training interrupted for any reason (including finishing the assigned number of episodes), you can resume it by passing resume=True and rerun all the above cells. "
   ]
  },
  {
   "cell_type": "code",
   "execution_count": 18,
   "id": "ca3d5df0",
   "metadata": {},
   "outputs": [
    {
     "name": "stdout",
     "output_type": "stream",
     "text": [
      "CPU times: user 411 ms, sys: 37 ms, total: 448 ms\n",
      "Wall time: 46.3 s\n"
     ]
    },
    {
     "data": {
      "text/plain": [
       "<rl.rlln.Qlearn at 0x7fc52fb71940>"
      ]
     },
     "execution_count": 18,
     "metadata": {},
     "output_type": "execute_result"
    },
    {
     "data": {
      "image/png": "[encoded data removed]",
      "text/plain": [
       "<Figure size 1200x480 with 2 Axes>"
      ]
     },
     "metadata": {},
     "output_type": "display_data"
    }
   ],
   "source": [
    "resume = False\n",
    "\n",
    "if resume:\n",
    "    vqlearn = Qlearn.selfload(self_path='vQlearn_experiment')\n",
    "    vqlearn.env = venv\n",
    "    # vqlearn.episodes = 504 # extend sthe number of episodes\n",
    "\n",
    "# saving the object after each episode for retrieval in case of a crash \n",
    "%time vqlearn.interact(resume=resume, save_ep=True) "
   ]
  },
  {
   "cell_type": "code",
   "execution_count": null,
   "id": "ba49b24c",
   "metadata": {},
   "outputs": [],
   "source": [
    "# venv.reset()"
   ]
  },
  {
   "cell_type": "markdown",
   "id": "8ed04323",
   "metadata": {},
   "source": [
    "## Nonlinear Function Approximation in Robotics\n",
    "\n",
    "To handle nonlinear function approximation, we provide you with a powerful library, rl.rlnn, which includes a set of classes that can be readily utilised, including for implementing DQN. This library offers the essential infrastructure required to implement DQN, Double DQN, and other RL algorithms, should you need them.\n",
    "\n",
    "In the following code, we use a fully connected neural network with Q-learning, specifically within the Deep Q-Network (DQN) framework. It is important to note that, despite the name, DQN does not necessarily require a deep architecture—especially when the input consists of simple laser scan data, which is far less complex than high-dimensional images typically handled by convolutional neural networks (CNNs).\n",
    "\n",
    "The model architecture is configurable via the h1 and h2 parameters, which define the sizes of the hidden layers. Setting either (or both) to 0 simplifies the network structure. By default, the setup supports up to four layers, which is generally sufficient for the intended robotics applications.\n",
    "\n",
    "If you wish to experiment with deeper architectures, you can modify the underlying model definition. However, for most cases with low-dimensional inputs, such as laser beams, additional depth is often unnecessary and may lead to overfitting or increased training complexity without significant benefits.\n",
    "\n",
    "### Key Parameters\n",
    "\n",
    "- `t_Qn`: Frequency (in steps) of updating the target network, used to stabilize learning alongside the main network.\n",
    "- `save_weights`: Determines how often the model's weights are saved to disk, which is useful for resuming training after interruptions.\n",
    "- `nbatch`: Size of the *mini-batch* sampled from the experience replay buffer for training.\n",
    "- `nbuffer`: Minimum number of experiences required in the *replay buffer* before learning commences.\n",
    "- `h1`: Size of the first hidden layer (set to `0` for no hidden layer).\n",
    "- `h2`: Size of the second hidden layer (also settable to `0` if not needed).\n",
    "\n",
    "\n",
    "\n",
    "\n",
    "You might consider enhancing the complexity of the environment's state representation to better match the expressive capacity of the neural network, particularly when using a Deep Q-Network (DQN) framework. A more detailed or structured input can help the model leverage the network's architecture more effectively, leading to better learning outcomes and more robust policy development.\n",
    "\n",
    "For instance, increasing the resolution or range of the laser scan input can align more closely with the neural network’s ability to process and learn from richer data. While a small number of beams may suffice for basic reactive behaviors, expanding the laser scan to include a denser or wider set of measurements provides more spatial context, allowing the model to learn more nuanced and sophisticated policies.\n",
    "\n",
    "This adjustment should remain computationally efficient and avoids the complexities of integrating visual data, which is not the focus in this case.\n"
   ]
  },
  {
   "cell_type": "code",
   "execution_count": null,
   "id": "1748d271",
   "metadata": {},
   "outputs": [],
   "source": [
    "from rl.rlnn import *"
   ]
  },
  {
   "cell_type": "markdown",
   "id": "fab24464",
   "metadata": {},
   "source": [
    "Below is a skeleton of the `nnRobEnv` class intended to be adapted for use with a non-linear function approximation model. Feel free to modify it as needed to suit your specific implementation, at the moment is uses the same reward and state of the `vRobEnv`."
   ]
  },
  {
   "cell_type": "code",
   "execution_count": null,
   "id": "03ad952f",
   "metadata": {},
   "outputs": [],
   "source": [
    "class nnRobEnv(vRobEnv):\n",
    "    def __init__(self, **kw):\n",
    "        super().__init__(**kw)\n",
    "    \n",
    "    def reward_(self, a):\n",
    "        return super().reward_(a)\n",
    "    \n",
    "    def s_(self):\n",
    "        return super().s_()\n"
   ]
  },
  {
   "cell_type": "code",
   "execution_count": null,
   "id": "5857fe46",
   "metadata": {},
   "outputs": [],
   "source": [
    "nnenv = nnRobEnv(speed=speed, θspeed=θspeed, n=n, verbose=True)"
   ]
  },
  {
   "cell_type": "code",
   "execution_count": null,
   "id": "25c5ab2f",
   "metadata": {},
   "outputs": [],
   "source": [
    "nnqlearn = DQN(env=nnenv, \\\n",
    "                episodes=100, \\\n",
    "                α=1e-5, ε=0.05,\\\n",
    "                h1=0, h2=0, nF=16, \\\n",
    "                nbuffer=8, nbatch=8, \\\n",
    "                t_Qn=200, \\\n",
    "                self_path='DQN_exp',\n",
    "                seed=1, **demoGame())"
   ]
  },
  {
   "cell_type": "code",
   "execution_count": null,
   "id": "c1cbe202",
   "metadata": {},
   "outputs": [],
   "source": [
    "resume = False\n",
    "\n",
    "if resume:\n",
    "    nnqlearn = DQN.selfload(self_path='DQN_exp')\n",
    "    nnqlearn.env = nnenv\n",
    "    # nnqlearn.ep = 20 # change episodes as needed\n",
    "\n",
    "# saving the object after each episode for retrieval in case of a crash \n",
    "%time nnqlearn.interact(resume=resume, save_ep=True)"
   ]
  },
  {
   "cell_type": "markdown",
   "id": "86b82678",
   "metadata": {},
   "source": [
    "## Loading an Algorithm Object after a Crash\n",
    "If the whole VM stopped for any reasons, and you have lost your local variables in the Jupyter notebook, then you can resume, by loading the latest saved object.\n",
    "\n",
    "To see how, you can Restart the kernel in the notebook which will delete all variable and imported libraries, then you can set resume = True and run all previous cells."
   ]
  },
  {
   "cell_type": "code",
   "execution_count": null,
   "id": "1d2e94b8",
   "metadata": {},
   "outputs": [],
   "source": [
    "nnqlearn.qN.weights"
   ]
  },
  {
   "cell_type": "markdown",
   "id": "efbaf881",
   "metadata": {},
   "source": [
    "## Training Headless\n",
    "To train more efficiently, you can disable the GUI in Gazebo. To do this, locate the .launch file that you use to launch Gazebo and comment out the following lines:\n",
    "\n",
    "       IncludeLaunchDescription(\n",
    "           PythonLaunchDescriptionSource(\n",
    "               os.path.join(pkg_gazebo_ros, 'launch', 'gzclient.launch.py')\n",
    "           ),\n",
    "       ),\n",
    "\n",
    "However, be aware that turning off the GUI may cause the robot to become unstable due to factors like wall collisions or lag. Without the visual feedback, it can be challenging to monitor the robot’s behaviour. If this happens and you need to see the robot’s state, you can press Ctrl + R to reset the simulation."
   ]
  },
  {
   "cell_type": "markdown",
   "id": "0d12c61c",
   "metadata": {},
   "source": [
    "### Conclusion\n",
    "In this worksheet, we have covered using RobEnv class and . We saw how to establish a connection between our notebook and the Gazebo simulated environment to control and train a robot inside it via one of our RL algorithms that we estbalished in earlier units."
   ]
  },
  {
   "cell_type": "code",
   "execution_count": null,
   "id": "6df6c621",
   "metadata": {},
   "outputs": [],
   "source": []
  }
 ],
 "metadata": {
  "kernelspec": {
   "display_name": "Python 3",
   "language": "python",
   "name": "python3"
  },
  "language_info": {
   "codemirror_mode": {
    "name": "ipython",
    "version": 3
   },
   "file_extension": ".py",
   "mimetype": "text/x-python",
   "name": "python",
   "nbconvert_exporter": "python",
   "pygments_lexer": "ipython3",
   "version": "3.10.12"
  }
 },
 "nbformat": 4,
 "nbformat_minor": 5
}
