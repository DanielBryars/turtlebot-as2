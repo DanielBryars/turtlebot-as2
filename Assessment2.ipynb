{
 "cells": [
  {
   "cell_type": "markdown",
   "id": "c6750369",
   "metadata": {},
   "source": [
    "#Markdown\n",
    "\n",
    "```plaintext\n",
    "RL/\n",
    "├── env/\n",
    "│   ├── grid.py\n",
    "│   ├── gridln.py\n",
    "│   ├── gridnn.py\n",
    "│   ├── mountainln.py\n",
    "│   ├── robot.py           ← Gazebo interface and Environment\n",
    "│   └── robot_old.py\n",
    "├── rl/\n",
    "│   ├── dp.py              ← Dynamic programming\n",
    "│   ├── rl.py              ← Core RL logic\n",
    "│   ├── rlln.py            ← Linear approximation model\n",
    "│   ├── rlnn.py            ← Non-linear model \n",
    "│   └── rlselect.py        ← \"Runs\" code for running experimental trials comparing\n",
    "```"
   ]
  },
  {
   "cell_type": "markdown",
   "id": "50e4fbee",
   "metadata": {},
   "source": [
    "# Imports / Constants"
   ]
  },
  {
   "cell_type": "code",
   "execution_count": 1,
   "id": "1cd99e8d",
   "metadata": {},
   "outputs": [
    {
     "data": {
      "text/html": [
       "<style>.container {width:90% !important}</style>"
      ],
      "text/plain": [
       "<IPython.core.display.HTML object>"
      ]
     },
     "metadata": {},
     "output_type": "display_data"
    },
    {
     "name": "stdout",
     "output_type": "stream",
     "text": [
      "True\n",
      "NVIDIA GeForce RTX 3080 Ti\n"
     ]
    }
   ],
   "source": [
    "%matplotlib inline\n",
    "import torch\n",
    "import numpy as np\n",
    "from env.robot import *\n",
    "import numpy as np\n",
    "from math import pi\n",
    "from time import sleep\n",
    "#from tqdm import tqdm\n",
    "\n",
    "from tqdm.notebook import tqdm\n",
    "import sys\n",
    "import termios\n",
    "import tty\n",
    "import select\n",
    "import ipywidgets as widgets\n",
    "from IPython.display import display\n",
    "from IPython.display import clear_output\n",
    "import time\n",
    "import matplotlib.pyplot as plt\n",
    "import numpy as np\n",
    "\n",
    "\n",
    "#ACTIONS - make the code easier to read\n",
    "FORWARDS = 1\n",
    "LEFT = 0\n",
    "RIGHT = 2\n",
    "\n",
    "#Really want it deterministic\n",
    "SEED = 42\n",
    "random.seed(SEED)\n",
    "np.random.seed(SEED)\n",
    "torch.manual_seed(SEED)\n",
    "torch.cuda.manual_seed_all(SEED)\n",
    "torch.backends.cudnn.deterministic = True\n",
    "torch.backends.cudnn.benchmark = False\n",
    "\n",
    "#GPU support?\n",
    "print(torch.cuda.is_available()) \n",
    "print(torch.cuda.get_device_name(0)) "
   ]
  },
  {
   "cell_type": "markdown",
   "id": "f44890c0",
   "metadata": {},
   "source": [
    "### Common / Helper Functions"
   ]
  },
  {
   "cell_type": "code",
   "execution_count": 2,
   "id": "0d57f07f",
   "metadata": {},
   "outputs": [],
   "source": [
    "def print_robot_state(env: RobEnv):\n",
    "    #note: env.x and env.y are rounded to 1dp\n",
    "    print (f\"Odom. Pos:[{env.x},{env.y}] Yaw:{env.θ}\")"
   ]
  },
  {
   "cell_type": "markdown",
   "id": "391642c5",
   "metadata": {},
   "source": [
    "# Connect to ROS / Configure Environment\n",
    "\n",
    "1) Launch simulation environment\n",
    "2) init ros (connect to ROS DDS eventing)\n",
    "3) create environment"
   ]
  },
  {
   "cell_type": "code",
   "execution_count": 3,
   "id": "49143321",
   "metadata": {},
   "outputs": [
    {
     "name": "stdout",
     "output_type": "stream",
     "text": [
      "speed  =  2.0\n",
      "θspeed =  0.9\n",
      "Num laser scans in sensor:'360'\n",
      "Odom. Pos:[0,0] Yaw:0\n"
     ]
    }
   ],
   "source": [
    "\n",
    "# Start Gazebo\n",
    "# ros2 launch turtlebot3_gazebo turtlebot3_world.launch.py\n",
    "# rviz2 \n",
    "\n",
    "if not ros.ok():\n",
    "    ros.init()\n",
    "\n",
    "\n",
    "#Values (see calibration below for how these values were picked for the most repeatable settings)\n",
    "θspeed = pi/3.5\n",
    "speed = 2.0\n",
    "n = 6\n",
    "\n",
    "env = RobEnv(speed=speed, θspeed=θspeed, n=n, verbose=True)\n",
    "env.reset()\n",
    "\n",
    "nscans = get_nscans_LiDAR()\n",
    "print(f\"Num laser scans in sensor:'{nscans}'\")\n",
    "# set_nscans_LiDAR(nscans=64)\n",
    "\n",
    "# accelerate_sim(speed=10)\n",
    "# Note running on my machine (AMD Ryzen 9 7950X, 64GB RAM, 3080TI) I got a stable Real Time Factor of 1.00 in the simulation.\n",
    "# I had problems if I set the real time target to more than this, and from reading up this is a knowm limitation in the old Gazebo environment\n",
    "# the new Gazebo Sim properly abstracts time so there is a simulation time independent from wall clock time. This version doesn't play nicely unless it's 1:1\n",
    "# See Simulation Speed in ROS/Gazebo   \n",
    "\n",
    "\n",
    "print_robot_state(env)"
   ]
  },
  {
   "cell_type": "code",
   "execution_count": 4,
   "id": "a5f93d32",
   "metadata": {},
   "outputs": [
    {
     "data": {
      "text/plain": [
       "112"
      ]
     },
     "execution_count": 4,
     "metadata": {},
     "output_type": "execute_result"
    }
   ],
   "source": [
    "## Reset env\n",
    "env.reset()"
   ]
  },
  {
   "cell_type": "code",
   "execution_count": 5,
   "id": "482132f5",
   "metadata": {},
   "outputs": [
    {
     "name": "stdout",
     "output_type": "stream",
     "text": [
      "Odom. Pos:[0.7,0.0] Yaw:0.0\n"
     ]
    },
    {
     "data": {
      "text/plain": [
       "112"
      ]
     },
     "execution_count": 5,
     "metadata": {},
     "output_type": "execute_result"
    }
   ],
   "source": [
    "#Test connection\n",
    "\n",
    "for _ in range(10): env.step()\n",
    "\n",
    "print_robot_state(env)\n",
    "\n",
    "env.reset()"
   ]
  },
  {
   "cell_type": "markdown",
   "id": "081b99e7",
   "metadata": {},
   "source": [
    "# Model 1: Action-value with linear function approximation\n",
    "\n",
    "RL method explanation + justification\n",
    "\n",
    "State representation\n",
    "\n",
    "Reward function\n",
    "\n",
    "Hyperparameter tuning\n",
    "\n",
    "Learning curves + discussion"
   ]
  },
  {
   "cell_type": "code",
   "execution_count": 6,
   "id": "969a778b",
   "metadata": {},
   "outputs": [],
   "source": [
    "#Assumptions\n",
    "assert get_nscans_LiDAR() == 360"
   ]
  },
  {
   "cell_type": "markdown",
   "id": "584949bb",
   "metadata": {},
   "source": [
    "## State representation\n",
    "\n",
    "Explain design\n"
   ]
  },
  {
   "cell_type": "code",
   "execution_count": 7,
   "id": "d8ab1e68",
   "metadata": {},
   "outputs": [],
   "source": [
    "class FeatureExtractor:\n",
    "    NUM_FEATURES = 6\n",
    "\n",
    "    def __init__(self, \n",
    "                 near_threshold=0.5, \n",
    "                 wall_threshold=1.2, \n",
    "                 max_range=3.5,\n",
    "                 min_range=0.0):\n",
    "        \n",
    "        self.near_threshold = near_threshold\n",
    "        self.wall_threshold = wall_threshold\n",
    "        self.max_range = max_range\n",
    "        self.min_range = min_range\n",
    "\n",
    "    def extract_features(self, scan_data):\n",
    "        scans = np.clip(scan_data, self.min_range, self.max_range)\n",
    "        scans[np.isnan(scans)] = self.max_range\n",
    "\n",
    "        n = len(scans)\n",
    "\n",
    "        \"\"\"\n",
    "                FRONT [0]\n",
    "                   ↑\n",
    "     FRONT/LEFT [315]     FRONT/RIGHT [45]\n",
    "          ↖                      ↗\n",
    "LEFT [270] ←                     → RIGHT [90]\n",
    "          ↙                      ↘\n",
    "     BACK/LEFT [225]     BACK/RIGHT [135]\n",
    "                   ↓\n",
    "               BACK [180]\n",
    "        \"\"\"\n",
    "\n",
    "\n",
    "        width_each_side = 5\n",
    "\n",
    "        left_scan_range = scans[270-width_each_side:270+width_each_side]\n",
    "        left_scan_average = np.mean(left_scan_range)\n",
    "\n",
    "        front_scan_range = scans[np.r_[360-width_each_side:360, 0:width_each_side]]\n",
    "        front_scan_average = np.mean(front_scan_range)\n",
    "        \n",
    "        right_scan_range = scans[90-width_each_side:90+width_each_side]\n",
    "        right_scan_average = np.mean(right_scan_range)\n",
    "\n",
    "        def is_wall_detected(avg_distance):\n",
    "            return avg_distance < self.wall_threshold\n",
    "                \n",
    "        def is_wall_too_near(avg_distance):\n",
    "            return avg_distance < self.near_threshold\n",
    "        \n",
    "        labels = []\n",
    "        features = []\n",
    "\n",
    "        labels.append('Left Wall Ahead')\n",
    "        features.append(is_wall_detected(left_scan_average))\n",
    "        labels.append('Left Wall Getting Close')\n",
    "        features.append(is_wall_too_near(left_scan_average))\n",
    "\n",
    "        labels.append('Front Wall Ahead')\n",
    "        features.append(is_wall_detected(front_scan_average))\n",
    "        labels.append('Front Wall Getting Close')\n",
    "        features.append(is_wall_too_near(front_scan_average))\n",
    "\n",
    "        labels.append('Right Wall Ahead')\n",
    "        features.append(is_wall_detected(right_scan_average))\n",
    "        labels.append('Right Wall Getting Close')\n",
    "        features.append(is_wall_too_near(right_scan_average))\n",
    "\n",
    "        #labels.append('Pillar Recognised')\n",
    "        #features.append(self.detect_cylinder_like(scans))\n",
    "        \n",
    "        assert len(labels) == self.NUM_FEATURES\n",
    "\n",
    "        return labels, np.array(features, dtype=np.float32), left_scan_average, front_scan_average, right_scan_average\n",
    "\n",
    "    def detect_cylinder_like(self, scan_data, range_threshold=0.5, cluster_width=5, variance_threshold=0.05):\n",
    "        for i in range(len(scan_data) - cluster_width):\n",
    "            window = scan_data[i:i+cluster_width]\n",
    "            if np.all(window < range_threshold) and np.var(window) < variance_threshold:\n",
    "                return 1\n",
    "        return 0"
   ]
  },
  {
   "cell_type": "code",
   "execution_count": 10,
   "id": "d4766131",
   "metadata": {},
   "outputs": [],
   "source": [
    "class vRobEnv(RobEnv):\n",
    "    def __init__(self, **kw):\n",
    "        super().__init__(**kw)\n",
    "        \n",
    "        self.nF = FeatureExtractor.NUM_FEATURES # len(self.scans)\n",
    "        print('state size=', self.nF)\n",
    "\n",
    "    # overridding reward_, \n",
    "    # you may use goal_dist, Δgoal_dist, θgoal_dist, Δθgoal_dist or at_wall and at_goal\n",
    "    def reward_(self, a):\n",
    "        # reward = sum([-self.Δgoal_dist*(a==1), .1*(a==1), .1*(a!=1),-self.Δθgoal_dist*(a!=1)/pi, -2*self.at_wall, 5*self.at_goal])\n",
    "        # reward = sum([-1, -1*(a != 1)*(not self.at_goal), 1*self.at_goal])/3  #-1*self.at_wall,\n",
    "\n",
    "        #-1 FOR EVERY STEP, 10 IF AT THE GOAL!!!\n",
    "        reward = sum([-1, 10*self.at_goal])\n",
    "        if self.verbose and reward>-1: print('reward =', reward)#; print(f'action = {a}')\n",
    "        return reward\n",
    "    \n",
    "    # overriding state representation, you may only use the laser self.scans\n",
    "    def s_(self):\n",
    "\n",
    "        #walls (front, left, right)\n",
    "\n",
    "        #corners (front+left, front+right)\n",
    "\n",
    "        #and pillar signal (from above)?\n",
    "\n",
    "        self.fe = FeatureExtractor(\n",
    "            near_threshold=0.5,\n",
    "            wall_threshold=1.2,\n",
    "            max_range=self.max_range,\n",
    "            min_range=self.min_range)\n",
    "        \n",
    "        _, features_detected, _, _, _ = self.fe.extract_features(env.scans)\n",
    "        \n",
    "        # returns a normalise and descritised componenets\n",
    "        return  features_detected\n"
   ]
  },
  {
   "cell_type": "code",
   "execution_count": 11,
   "id": "705fdf97",
   "metadata": {},
   "outputs": [
    {
     "name": "stdout",
     "output_type": "stream",
     "text": [
      "speed  =  2.0\n",
      "θspeed =  0.9\n",
      "state size= 6\n"
     ]
    },
    {
     "name": "stderr",
     "output_type": "stream",
     "text": [
      "[WARN] [1745692953.469805955] [rcl.logging_rosout]: Publisher already registered for provided node name. If this is due to multiple nodes with the same name then all logs for that logger name will go out over the existing publisher. As soon as any node with that name is destructed it will unregister the publisher, preventing any further logs for that name from being published on the rosout topic.\n"
     ]
    }
   ],
   "source": [
    "venv = vRobEnv(speed=speed, θspeed=θspeed, n=n,verbose=True)\n",
    "\n",
    "vqlearn = Qlearn(env=venv, α=1e-4, q0=0, ε=.0, \\\n",
    "                 max_t=1000, episodes=100, \\\n",
    "                 self_path='test001.pkl',\\\n",
    "                 seed=1, **demoGame())\n",
    "\n"
   ]
  },
  {
   "cell_type": "code",
   "execution_count": null,
   "id": "5af1030f",
   "metadata": {},
   "outputs": [
    {
     "data": {
      "image/png": "[encoded data removed]",
      "text/plain": [
       "<Figure size 1200x480 with 2 Axes>"
      ]
     },
     "metadata": {},
     "output_type": "display_data"
    }
   ],
   "source": [
    "resume = False\n",
    "\n",
    "if resume:\n",
    "    vqlearn = Qlearn.selfload(self_path='vQlearn_exp')\n",
    "    vqlearn.env = venv\n",
    "    vqlearn.episodes = 105 # extend sthe number of episodes\n",
    "\n",
    "# saving the object after each episode for retrieval in case of a crash \n",
    "%time vqlearn.interact(resume=resume, save_ep=True) "
   ]
  },
  {
   "cell_type": "markdown",
   "id": "2ce587cf",
   "metadata": {},
   "source": [
    "Model 2: Either policy gradient or value-based with non-linear function approximation\n",
    "\n",
    "I have also provided you with the ability to easily create a simple, fully connected neural network in the nnMRP class. You do not need to do a lot; the size of the input dictates the choice between a CNN-based model and a fully connected neural network. You may use either in your project, but using a traditional network, not a CNN, is easier and less time-consuming. The CNN-based one is for learning from the pixels of an input image; we are just using the laser reading in our project.\n",
    "\n",
    "\n",
    "\n",
    "I’ve also made slight changes to rl.rl.py to enable storing and retrieving an object (via pickle), which can be useful in case of unexpected crashes—something not uncommon in robotics.\n",
    "\n",
    "Please ensure you download turtlebot3.zip as well to guarantee the environment runs smoothly without any missing files. If you run into any issues, feel free to reach out."
   ]
  },
  {
   "cell_type": "markdown",
   "id": "34a6066b",
   "metadata": {},
   "source": [
    "# References\n",
    "\n",
    "- Núñez, P., Vazquez-Martin, R., Bandera, A., and Romero-Gonzalez, C. (2015) ‘Feature extraction from laser scan data based on curvature estimation for mobile robotics’, *Robotics and Autonomous Systems*, 70, pp. 103–114. Available at: [https://robolab.unex.es/wp-content/papercite-data/pdf/feature-extraction-from-laser.pdf](https://robolab.unex.es/wp-content/publicaciones/2006/Nunez%20Trujillo,%20Vazquez-Martin,%20del%20Toro,%20Bandera%20%7C%20Feature%20extraction%20from%20laser%20scan%20data%20based%20on%20curvature%20estimation%20for%20mobile%20robotics.pdf) (Accessed: 26 April 2025).\n",
    "\n",
    "- Ramos, J., Rocha, R., and Dias, J. (2022) ‘Efficient approach for extracting high-level B-spline features from laser scan data’, *Sensors*, 22(24), 9737. Available at: [https://www.ncbi.nlm.nih.gov/pmc/articles/PMC9737135/](https://www.ncbi.nlm.nih.gov/pmc/articles/PMC9737135/) (Accessed: 26 April 2025).\n",
    "\n",
    "- Shen, S., Michael, N., and Kumar, V. (2012) ‘Method for corner feature extraction from laser scan data’, *ResearchGate*. Available at: [https://www.researchgate.net/publication/288577925_Method_for_corner_feature_extraction_from_laser_scan_data](https://www.researchgate.net/publication/288577925_Method_for_corner_feature_extraction_from_laser_scan_data) (Accessed: 26 April 2025).\n",
    "\n",
    "- Stack Overflow (2019) ‘How can I detect the corner from 2D point cloud or LiDAR scanned data?’, *Stack Overflow*. Available at: [https://stackoverflow.com/questions/59049990/how-can-i-detect-the-corner-from-2d-point-cloud-or-lidar-scanned-data](https://stackoverflow.com/questions/59049990/how-can-i-detect-the-corner-from-2d-point-cloud-or-lidar-scanned-data) (Accessed: 26 April 2025).\n",
    "\n",
    "\n",
    "- CETI. (n.d.) *Simulation Speed in ROS/Gazebo*. Available at: [https://ceti.pages.st.inf.tu-dresden.de/robotics/howtos/SimulationSpeed.html](https://ceti.pages.st.inf.tu-dresden.de/robotics/howtos/SimulationSpeed.html) (Accessed: 26 April 2025).\n",
    "\n",
    "- Furrer, F., Wermelinger, M., Naegeli, T., et al. (2021) ‘Dynamics and Control of Quadrotor UAVs: A Survey’, *IEEE Transactions on Robotics*, 37(5), pp. 1381–1400. Available at: [https://ieeexplore.ieee.org/document/9453594](https://ieeexplore.ieee.org/document/9453594) (Accessed: 26 April 2025).\n",
    "\n",
    "- Perez-Perez, J., Jimenez, F. and Mata, M. (2023) ‘An Overview of Reinforcement Learning in Autonomous Driving: Fundamentals, Challenges, and Applications’, *Applied Sciences*, 13(12), p. 7202. Available at: [https://www.mdpi.com/2076-3417/13/12/7202](https://www.mdpi.com/2076-3417/13/12/7202) (Accessed: 26 April 2025).\n"
   ]
  },
  {
   "cell_type": "markdown",
   "id": "1cbb3939",
   "metadata": {},
   "source": [
    "# Appendicies\n",
    "\n",
    "## Cool links / interesting reading: \n",
    "- https://github.com/hello-robot/stretch_ros/blob/master/stretch_funmap/README.md\n",
    "- https://arxiv.org/pdf/2502.20607\n",
    "\n",
    "## Miscelaneous Notes\n",
    "\n",
    "### Setting up ROS\n",
    "- https://emanual.robotis.com/docs/en/platform/turtlebot3/sbc_setup/\n",
    "- https://ros2-industrial-workshop.readthedocs.io/en/latest/_source/navigation/ROS2-Turtlebot.html\n",
    "- https://emanual.robotis.com/docs/en/platform/turtlebot3/navigation/\n",
    "- https://emanual.robotis.com/docs/en/platform/turtlebot3/bringup/#bringup\n",
    "\n",
    "### Multicast traffic (for DDS) through Windows FW to WSL2:\n",
    "- https://eprosima-dds-router.readthedocs.io/en/latest/rst/examples/repeater_example.html#execute-example\n",
    "- New-NetFirewallRule -Name 'WSL' -DisplayName 'WSL' -InterfaceAlias 'vEthernet (WSL (Hyper-V firewall))' -Direction Inbound -Action Allow\n",
    "- New-NetIPAddress -InterfaceAlias 'vEthernet (WSL (Hyper-V firewall))' -IPAddress '192.168.1.217' -PrefixLength 24\n",
    "- https://github.com/DanielBryars/multicast-test.git\n",
    "\n",
    "### VM\n",
    "- https://labs.azure.com/virtualmachines?feature_vnext=true"
   ]
  }
 ],
 "metadata": {
  "kernelspec": {
   "display_name": "Python 3",
   "language": "python",
   "name": "python3"
  },
  "language_info": {
   "codemirror_mode": {
    "name": "ipython",
    "version": 3
   },
   "file_extension": ".py",
   "mimetype": "text/x-python",
   "name": "python",
   "nbconvert_exporter": "python",
   "pygments_lexer": "ipython3",
   "version": "3.10.12"
  }
 },
 "nbformat": 4,
 "nbformat_minor": 5
}
