{
 "cells": [
  {
   "cell_type": "code",
   "execution_count": 6,
   "metadata": {},
   "outputs": [
    {
     "name": "stdout",
     "output_type": "stream",
     "text": [
      "humble\n"
     ]
    }
   ],
   "source": [
    "#!ros2 launch turtlebot3_gazebo turtlebot3_house.launch.py\n",
    "#!ros2 -h\n",
    "#!lsb_release -a\n",
    "import os\n",
    "print(os.environ.get(\"ROS_DISTRO\"))"
   ]
  },
  {
   "cell_type": "code",
   "execution_count": 7,
   "metadata": {},
   "outputs": [],
   "source": [
    "%matplotlib inline"
   ]
  },
  {
   "cell_type": "code",
   "execution_count": 8,
   "metadata": {},
   "outputs": [],
   "source": [
    "import rclpy as ros\n",
    "from rclpy.node import Node\n",
    "\n",
    "from geometry_msgs.msg import Twist\n",
    "from nav_msgs.msg  import Odometry\n",
    "from sensor_msgs.msg import LaserScan\n",
    "from std_srvs.srv import Empty\n",
    "from gazebo_msgs.srv import SpawnModel\n",
    "\n",
    "import numpy as np\n",
    "from numpy import Inf\n",
    "from random import randint\n",
    "from math import atan2, atan, pi\n",
    "import matplotlib.pyplot as plt\n",
    "ros.init()"
   ]
  },
  {
   "cell_type": "code",
   "execution_count": 9,
   "metadata": {},
   "outputs": [],
   "source": [
    "def name(): return 'node'+str(randint(1,1000))\n"
   ]
  },
  {
   "cell_type": "code",
   "execution_count": null,
   "metadata": {},
   "outputs": [],
   "source": []
  }
 ],
 "metadata": {
  "kernelspec": {
   "display_name": "Python 3 (ipykernel)",
   "language": "python",
   "name": "python3"
  },
  "language_info": {
   "codemirror_mode": {
    "name": "ipython",
    "version": 3
   },
   "file_extension": ".py",
   "mimetype": "text/x-python",
   "name": "python",
   "nbconvert_exporter": "python",
   "pygments_lexer": "ipython3",
   "version": "3.10.12"
  }
 },
 "nbformat": 4,
 "nbformat_minor": 4
}
